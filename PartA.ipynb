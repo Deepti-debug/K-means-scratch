{
 "cells": [
  {
   "cell_type": "markdown",
   "id": "816bfbf3",
   "metadata": {},
   "source": [
    "### **1. Importing Libraries**"
   ]
  },
  {
   "cell_type": "code",
   "execution_count": 1,
   "id": "97256b60",
   "metadata": {},
   "outputs": [],
   "source": [
    "import pandas as pd                                                 # Importing for panel data analysis\n",
    "#-------------------------------------------------------------------------------------------------------------------------------\n",
    "import numpy as np                                                  # Importing package numpys (For Numerical Python)\n",
    "#-------------------------------------------------------------------------------------------------------------------------------\n",
    "import matplotlib.pyplot as plt                                     # Importing pyplot interface of matplotlib\n",
    "import seaborn as sns                                               # Importing seaborn library for interactive visualization\n",
    "%matplotlib inline\n",
    "#--------------------~-----------------------------------------------------------------------------------------------------------\n",
    "from sklearn.metrics import classification_report, confusion_matrix\n",
    "from sklearn.metrics import accuracy_score\n",
    "#--------------------~-----------------------------------------------------------------------------------------------------------\n",
    "from sklearn.model_selection import train_test_split\n",
    "from sklearn.model_selection import StratifiedKFold\n",
    "from sklearn.tree import DecisionTreeClassifier\n",
    "from statistics import mean, stdev\n",
    "from itertools import combinations\n",
    "from sklearn.svm import SVC\n",
    "import pickle\n",
    "#--------------------------------------------------------------------------------------------------------------------------------\n",
    "import warnings                                                     # Importing warning to disable runtime warnings\n",
    "warnings.filterwarnings(\"ignore\")                                   # Warnings will appear only once"
   ]
  },
  {
   "cell_type": "code",
   "execution_count": 2,
   "id": "9f7b95a3",
   "metadata": {},
   "outputs": [
    {
     "name": "stdout",
     "output_type": "stream",
     "text": [
      "Shape of the dataset: (18207, 60)\n"
     ]
    },
    {
     "data": {
      "text/html": [
       "<div>\n",
       "<style scoped>\n",
       "    .dataframe tbody tr th:only-of-type {\n",
       "        vertical-align: middle;\n",
       "    }\n",
       "\n",
       "    .dataframe tbody tr th {\n",
       "        vertical-align: top;\n",
       "    }\n",
       "\n",
       "    .dataframe thead th {\n",
       "        text-align: right;\n",
       "    }\n",
       "</style>\n",
       "<table border=\"1\" class=\"dataframe\">\n",
       "  <thead>\n",
       "    <tr style=\"text-align: right;\">\n",
       "      <th></th>\n",
       "      <th>ID</th>\n",
       "      <th>Name</th>\n",
       "      <th>Age</th>\n",
       "      <th>Nationality</th>\n",
       "      <th>Overall</th>\n",
       "      <th>Potential</th>\n",
       "      <th>Club</th>\n",
       "      <th>Value</th>\n",
       "      <th>Wage</th>\n",
       "      <th>Special</th>\n",
       "      <th>...</th>\n",
       "      <th>Marking</th>\n",
       "      <th>StandingTackle</th>\n",
       "      <th>SlidingTackle</th>\n",
       "      <th>GKDiving</th>\n",
       "      <th>GKHandling</th>\n",
       "      <th>GKKicking</th>\n",
       "      <th>GKPositioning</th>\n",
       "      <th>GKReflexes</th>\n",
       "      <th>Release Clause</th>\n",
       "      <th>Unnamed: 60</th>\n",
       "    </tr>\n",
       "  </thead>\n",
       "  <tbody>\n",
       "    <tr>\n",
       "      <th>0</th>\n",
       "      <td>158023</td>\n",
       "      <td>L. Messi</td>\n",
       "      <td>31</td>\n",
       "      <td>Argentina</td>\n",
       "      <td>94</td>\n",
       "      <td>94</td>\n",
       "      <td>FC Barcelona</td>\n",
       "      <td>€110.5M</td>\n",
       "      <td>€565K</td>\n",
       "      <td>2202</td>\n",
       "      <td>...</td>\n",
       "      <td>33.0</td>\n",
       "      <td>28.0</td>\n",
       "      <td>26.0</td>\n",
       "      <td>6.0</td>\n",
       "      <td>11.0</td>\n",
       "      <td>15.0</td>\n",
       "      <td>14.0</td>\n",
       "      <td>8.0</td>\n",
       "      <td>€226.5M</td>\n",
       "      <td>NaN</td>\n",
       "    </tr>\n",
       "    <tr>\n",
       "      <th>1</th>\n",
       "      <td>20801</td>\n",
       "      <td>Cristiano Ronaldo</td>\n",
       "      <td>33</td>\n",
       "      <td>Portugal</td>\n",
       "      <td>94</td>\n",
       "      <td>94</td>\n",
       "      <td>Juventus</td>\n",
       "      <td>€77M</td>\n",
       "      <td>€405K</td>\n",
       "      <td>2228</td>\n",
       "      <td>...</td>\n",
       "      <td>28.0</td>\n",
       "      <td>31.0</td>\n",
       "      <td>23.0</td>\n",
       "      <td>7.0</td>\n",
       "      <td>11.0</td>\n",
       "      <td>15.0</td>\n",
       "      <td>14.0</td>\n",
       "      <td>11.0</td>\n",
       "      <td>€127.1M</td>\n",
       "      <td>NaN</td>\n",
       "    </tr>\n",
       "    <tr>\n",
       "      <th>2</th>\n",
       "      <td>190871</td>\n",
       "      <td>Neymar Jr</td>\n",
       "      <td>26</td>\n",
       "      <td>Brazil</td>\n",
       "      <td>92</td>\n",
       "      <td>93</td>\n",
       "      <td>Paris Saint-Germain</td>\n",
       "      <td>€118.5M</td>\n",
       "      <td>€290K</td>\n",
       "      <td>2143</td>\n",
       "      <td>...</td>\n",
       "      <td>27.0</td>\n",
       "      <td>24.0</td>\n",
       "      <td>33.0</td>\n",
       "      <td>9.0</td>\n",
       "      <td>9.0</td>\n",
       "      <td>15.0</td>\n",
       "      <td>15.0</td>\n",
       "      <td>11.0</td>\n",
       "      <td>€228.1M</td>\n",
       "      <td>NaN</td>\n",
       "    </tr>\n",
       "  </tbody>\n",
       "</table>\n",
       "<p>3 rows × 60 columns</p>\n",
       "</div>"
      ],
      "text/plain": [
       "       ID               Name  Age Nationality  Overall  Potential  \\\n",
       "0  158023           L. Messi   31   Argentina       94         94   \n",
       "1   20801  Cristiano Ronaldo   33    Portugal       94         94   \n",
       "2  190871          Neymar Jr   26      Brazil       92         93   \n",
       "\n",
       "                  Club    Value   Wage Special  ... Marking StandingTackle  \\\n",
       "0         FC Barcelona  €110.5M  €565K    2202  ...    33.0           28.0   \n",
       "1             Juventus     €77M  €405K    2228  ...    28.0           31.0   \n",
       "2  Paris Saint-Germain  €118.5M  €290K    2143  ...    27.0           24.0   \n",
       "\n",
       "   SlidingTackle  GKDiving GKHandling GKKicking GKPositioning GKReflexes  \\\n",
       "0           26.0       6.0       11.0      15.0          14.0        8.0   \n",
       "1           23.0       7.0       11.0      15.0          14.0       11.0   \n",
       "2           33.0       9.0        9.0      15.0          15.0       11.0   \n",
       "\n",
       "  Release Clause Unnamed: 60  \n",
       "0        €226.5M         NaN  \n",
       "1        €127.1M         NaN  \n",
       "2        €228.1M         NaN  \n",
       "\n",
       "[3 rows x 60 columns]"
      ]
     },
     "execution_count": 2,
     "metadata": {},
     "output_type": "execute_result"
    }
   ],
   "source": [
    "# Import training data into pandas dataframe\n",
    "footbal_df = pd.read_csv('./Dataset/Dataset1/football_data.csv')\n",
    "del footbal_df[footbal_df.columns[0]] # removing the index column\n",
    "print('Shape of the dataset:', footbal_df.shape)\n",
    "footbal_df.head(3)"
   ]
  },
  {
   "cell_type": "markdown",
   "id": "31d212df",
   "metadata": {},
   "source": [
    "### **2. Data Preprocessing**\n",
    "- Here we try to understand our data and preprocess it to the desirable format.\n",
    "- All the observations are written in bullet points in markdown."
   ]
  },
  {
   "cell_type": "code",
   "execution_count": 3,
   "id": "55e3084c",
   "metadata": {},
   "outputs": [
    {
     "name": "stdout",
     "output_type": "stream",
     "text": [
      "<class 'pandas.core.frame.DataFrame'>\n",
      "RangeIndex: 18207 entries, 0 to 18206\n",
      "Data columns (total 60 columns):\n",
      " #   Column                    Non-Null Count  Dtype  \n",
      "---  ------                    --------------  -----  \n",
      " 0   ID                        18207 non-null  int64  \n",
      " 1   Name                      18207 non-null  object \n",
      " 2   Age                       18207 non-null  int64  \n",
      " 3   Nationality               18207 non-null  object \n",
      " 4   Overall                   18207 non-null  int64  \n",
      " 5   Potential                 18207 non-null  int64  \n",
      " 6   Club                      17966 non-null  object \n",
      " 7   Value                     18207 non-null  object \n",
      " 8   Wage                      18207 non-null  object \n",
      " 9   Special                   18207 non-null  object \n",
      " 10  Preferred Foot            18159 non-null  object \n",
      " 11  International Reputation  18159 non-null  object \n",
      " 12  Weak Foot                 18159 non-null  float64\n",
      " 13  Skill Moves               18159 non-null  float64\n",
      " 14  Work Rate                 18159 non-null  object \n",
      " 15  Body Type                 18159 non-null  object \n",
      " 16  Real Face                 18159 non-null  object \n",
      " 17  Position                  18147 non-null  object \n",
      " 18  Jersey Number             18147 non-null  object \n",
      " 19  Joined                    16655 non-null  object \n",
      " 20  Loaned From               1290 non-null   object \n",
      " 21  Contract Valid Until      17891 non-null  object \n",
      " 22  Height                    18159 non-null  object \n",
      " 23  Weight                    18159 non-null  object \n",
      " 24  Crossing                  18156 non-null  object \n",
      " 25  Finishing                 18159 non-null  float64\n",
      " 26  HeadingAccuracy           18159 non-null  float64\n",
      " 27  ShortPassing              18159 non-null  float64\n",
      " 28  Volleys                   18159 non-null  float64\n",
      " 29  Dribbling                 18159 non-null  float64\n",
      " 30  Curve                     18159 non-null  float64\n",
      " 31  FKAccuracy                18159 non-null  float64\n",
      " 32  LongPassing               18159 non-null  float64\n",
      " 33  BallControl               18159 non-null  float64\n",
      " 34  Acceleration              18159 non-null  float64\n",
      " 35  SprintSpeed               18159 non-null  float64\n",
      " 36  Agility                   18159 non-null  float64\n",
      " 37  Reactions                 18159 non-null  float64\n",
      " 38  Balance                   18159 non-null  float64\n",
      " 39  ShotPower                 18159 non-null  float64\n",
      " 40  Jumping                   18159 non-null  float64\n",
      " 41  Stamina                   18159 non-null  float64\n",
      " 42  Strength                  18159 non-null  float64\n",
      " 43  LongShots                 18159 non-null  float64\n",
      " 44  Aggression                18159 non-null  float64\n",
      " 45  Interceptions             18159 non-null  float64\n",
      " 46  Positioning               18159 non-null  float64\n",
      " 47  Vision                    18159 non-null  float64\n",
      " 48  Penalties                 18159 non-null  float64\n",
      " 49  Composure                 18159 non-null  float64\n",
      " 50  Marking                   18159 non-null  float64\n",
      " 51  StandingTackle            18159 non-null  float64\n",
      " 52  SlidingTackle             18159 non-null  float64\n",
      " 53  GKDiving                  18159 non-null  float64\n",
      " 54  GKHandling                18159 non-null  float64\n",
      " 55  GKKicking                 18159 non-null  float64\n",
      " 56  GKPositioning             18159 non-null  float64\n",
      " 57  GKReflexes                18159 non-null  float64\n",
      " 58  Release Clause            16644 non-null  object \n",
      " 59  Unnamed: 60               27 non-null     object \n",
      "dtypes: float64(35), int64(4), object(21)\n",
      "memory usage: 8.3+ MB\n"
     ]
    }
   ],
   "source": [
    "footbal_df.info()"
   ]
  },
  {
   "cell_type": "code",
   "execution_count": 4,
   "metadata": {},
   "outputs": [
    {
     "data": {
      "text/plain": [
       "'2006'"
      ]
     },
     "execution_count": 4,
     "metadata": {},
     "output_type": "execute_result"
    }
   ],
   "source": [
    "footbal_df.loc[461, 'Preferred Foot']"
   ]
  },
  {
   "cell_type": "markdown",
   "id": "38fbdc77",
   "metadata": {},
   "source": [
    "- From footbal_df.info(), we can see that the dataset is a mix of continuous and categorical values. \n",
    "- Let's analyze each of the values and select the relevant columns."
   ]
  },
  {
   "cell_type": "code",
   "execution_count": 5,
   "metadata": {},
   "outputs": [
    {
     "data": {
      "text/plain": [
       "0        False\n",
       "1        False\n",
       "2        False\n",
       "3        False\n",
       "4        False\n",
       "         ...  \n",
       "18202    False\n",
       "18203    False\n",
       "18204    False\n",
       "18205    False\n",
       "18206    False\n",
       "Length: 18207, dtype: bool"
      ]
     },
     "execution_count": 5,
     "metadata": {},
     "output_type": "execute_result"
    }
   ],
   "source": [
    "footbal_df.duplicated(keep=False)"
   ]
  },
  {
   "cell_type": "markdown",
   "metadata": {},
   "source": [
    "- There are no duplicate rows"
   ]
  },
  {
   "cell_type": "code",
   "execution_count": 6,
   "id": "4ef7c2f9",
   "metadata": {},
   "outputs": [],
   "source": [
    "footbal_df = footbal_df.drop('ID', axis=1) # removing the ID column as it's not a descriptive attribute\n",
    "footbal_df = footbal_df.drop('Name', axis=1) # removing the Name column as it's not a descriptive attribute\n",
    "footbal_df = footbal_df.drop('Unnamed: 60', axis=1) # removing the 'Unnamed: 60' column as it has less than 0.1% of the data and other values are Null"
   ]
  },
  {
   "cell_type": "code",
   "execution_count": 7,
   "id": "2872e846",
   "metadata": {},
   "outputs": [
    {
     "data": {
      "text/html": [
       "<div>\n",
       "<style scoped>\n",
       "    .dataframe tbody tr th:only-of-type {\n",
       "        vertical-align: middle;\n",
       "    }\n",
       "\n",
       "    .dataframe tbody tr th {\n",
       "        vertical-align: top;\n",
       "    }\n",
       "\n",
       "    .dataframe thead th {\n",
       "        text-align: right;\n",
       "    }\n",
       "</style>\n",
       "<table border=\"1\" class=\"dataframe\">\n",
       "  <thead>\n",
       "    <tr style=\"text-align: right;\">\n",
       "      <th></th>\n",
       "      <th>Age</th>\n",
       "      <th>Overall</th>\n",
       "      <th>Potential</th>\n",
       "      <th>Weak Foot</th>\n",
       "      <th>Skill Moves</th>\n",
       "      <th>Finishing</th>\n",
       "      <th>HeadingAccuracy</th>\n",
       "      <th>ShortPassing</th>\n",
       "      <th>Volleys</th>\n",
       "      <th>Dribbling</th>\n",
       "      <th>...</th>\n",
       "      <th>Penalties</th>\n",
       "      <th>Composure</th>\n",
       "      <th>Marking</th>\n",
       "      <th>StandingTackle</th>\n",
       "      <th>SlidingTackle</th>\n",
       "      <th>GKDiving</th>\n",
       "      <th>GKHandling</th>\n",
       "      <th>GKKicking</th>\n",
       "      <th>GKPositioning</th>\n",
       "      <th>GKReflexes</th>\n",
       "    </tr>\n",
       "  </thead>\n",
       "  <tbody>\n",
       "    <tr>\n",
       "      <th>count</th>\n",
       "      <td>18207.000000</td>\n",
       "      <td>18207.000000</td>\n",
       "      <td>18207.000000</td>\n",
       "      <td>18159.000000</td>\n",
       "      <td>18159.000000</td>\n",
       "      <td>18159.000000</td>\n",
       "      <td>18159.000000</td>\n",
       "      <td>18159.000000</td>\n",
       "      <td>18159.000000</td>\n",
       "      <td>18159.000000</td>\n",
       "      <td>...</td>\n",
       "      <td>18159.000000</td>\n",
       "      <td>18159.000000</td>\n",
       "      <td>18159.000000</td>\n",
       "      <td>18159.000000</td>\n",
       "      <td>18159.000000</td>\n",
       "      <td>18159.000000</td>\n",
       "      <td>18159.000000</td>\n",
       "      <td>18159.000000</td>\n",
       "      <td>18159.000000</td>\n",
       "      <td>18159.000000</td>\n",
       "    </tr>\n",
       "    <tr>\n",
       "      <th>mean</th>\n",
       "      <td>25.122206</td>\n",
       "      <td>66.238699</td>\n",
       "      <td>71.307299</td>\n",
       "      <td>2.944215</td>\n",
       "      <td>2.362685</td>\n",
       "      <td>45.560273</td>\n",
       "      <td>52.282670</td>\n",
       "      <td>58.676579</td>\n",
       "      <td>42.938983</td>\n",
       "      <td>55.346990</td>\n",
       "      <td>...</td>\n",
       "      <td>48.561760</td>\n",
       "      <td>58.630762</td>\n",
       "      <td>47.283496</td>\n",
       "      <td>47.701911</td>\n",
       "      <td>45.663858</td>\n",
       "      <td>16.664244</td>\n",
       "      <td>16.391707</td>\n",
       "      <td>16.230409</td>\n",
       "      <td>16.390881</td>\n",
       "      <td>16.708519</td>\n",
       "    </tr>\n",
       "    <tr>\n",
       "      <th>std</th>\n",
       "      <td>4.669943</td>\n",
       "      <td>6.908930</td>\n",
       "      <td>6.136496</td>\n",
       "      <td>0.664361</td>\n",
       "      <td>0.756561</td>\n",
       "      <td>19.519091</td>\n",
       "      <td>17.393362</td>\n",
       "      <td>14.706456</td>\n",
       "      <td>17.698047</td>\n",
       "      <td>18.922722</td>\n",
       "      <td>...</td>\n",
       "      <td>15.704481</td>\n",
       "      <td>11.454790</td>\n",
       "      <td>19.900403</td>\n",
       "      <td>21.663252</td>\n",
       "      <td>21.290492</td>\n",
       "      <td>17.733472</td>\n",
       "      <td>16.908588</td>\n",
       "      <td>16.501483</td>\n",
       "      <td>17.035594</td>\n",
       "      <td>17.956907</td>\n",
       "    </tr>\n",
       "    <tr>\n",
       "      <th>min</th>\n",
       "      <td>16.000000</td>\n",
       "      <td>46.000000</td>\n",
       "      <td>48.000000</td>\n",
       "      <td>1.000000</td>\n",
       "      <td>1.000000</td>\n",
       "      <td>2.000000</td>\n",
       "      <td>4.000000</td>\n",
       "      <td>7.000000</td>\n",
       "      <td>4.000000</td>\n",
       "      <td>4.000000</td>\n",
       "      <td>...</td>\n",
       "      <td>5.000000</td>\n",
       "      <td>3.000000</td>\n",
       "      <td>3.000000</td>\n",
       "      <td>2.000000</td>\n",
       "      <td>3.000000</td>\n",
       "      <td>1.000000</td>\n",
       "      <td>1.000000</td>\n",
       "      <td>1.000000</td>\n",
       "      <td>1.000000</td>\n",
       "      <td>1.000000</td>\n",
       "    </tr>\n",
       "    <tr>\n",
       "      <th>25%</th>\n",
       "      <td>21.000000</td>\n",
       "      <td>62.000000</td>\n",
       "      <td>67.000000</td>\n",
       "      <td>3.000000</td>\n",
       "      <td>2.000000</td>\n",
       "      <td>30.000000</td>\n",
       "      <td>44.000000</td>\n",
       "      <td>54.000000</td>\n",
       "      <td>30.000000</td>\n",
       "      <td>49.000000</td>\n",
       "      <td>...</td>\n",
       "      <td>39.000000</td>\n",
       "      <td>51.000000</td>\n",
       "      <td>30.000000</td>\n",
       "      <td>27.000000</td>\n",
       "      <td>24.000000</td>\n",
       "      <td>8.000000</td>\n",
       "      <td>8.000000</td>\n",
       "      <td>8.000000</td>\n",
       "      <td>8.000000</td>\n",
       "      <td>8.000000</td>\n",
       "    </tr>\n",
       "    <tr>\n",
       "      <th>50%</th>\n",
       "      <td>25.000000</td>\n",
       "      <td>66.000000</td>\n",
       "      <td>71.000000</td>\n",
       "      <td>3.000000</td>\n",
       "      <td>2.000000</td>\n",
       "      <td>49.000000</td>\n",
       "      <td>56.000000</td>\n",
       "      <td>62.000000</td>\n",
       "      <td>44.000000</td>\n",
       "      <td>61.000000</td>\n",
       "      <td>...</td>\n",
       "      <td>49.000000</td>\n",
       "      <td>60.000000</td>\n",
       "      <td>53.000000</td>\n",
       "      <td>55.000000</td>\n",
       "      <td>52.000000</td>\n",
       "      <td>11.000000</td>\n",
       "      <td>11.000000</td>\n",
       "      <td>11.000000</td>\n",
       "      <td>11.000000</td>\n",
       "      <td>11.000000</td>\n",
       "    </tr>\n",
       "    <tr>\n",
       "      <th>75%</th>\n",
       "      <td>28.000000</td>\n",
       "      <td>71.000000</td>\n",
       "      <td>75.000000</td>\n",
       "      <td>3.000000</td>\n",
       "      <td>3.000000</td>\n",
       "      <td>62.000000</td>\n",
       "      <td>64.000000</td>\n",
       "      <td>68.000000</td>\n",
       "      <td>57.000000</td>\n",
       "      <td>68.000000</td>\n",
       "      <td>...</td>\n",
       "      <td>60.000000</td>\n",
       "      <td>67.000000</td>\n",
       "      <td>64.000000</td>\n",
       "      <td>66.000000</td>\n",
       "      <td>64.000000</td>\n",
       "      <td>14.000000</td>\n",
       "      <td>14.000000</td>\n",
       "      <td>14.000000</td>\n",
       "      <td>14.000000</td>\n",
       "      <td>14.000000</td>\n",
       "    </tr>\n",
       "    <tr>\n",
       "      <th>max</th>\n",
       "      <td>45.000000</td>\n",
       "      <td>94.000000</td>\n",
       "      <td>95.000000</td>\n",
       "      <td>5.000000</td>\n",
       "      <td>5.000000</td>\n",
       "      <td>95.000000</td>\n",
       "      <td>94.000000</td>\n",
       "      <td>93.000000</td>\n",
       "      <td>90.000000</td>\n",
       "      <td>97.000000</td>\n",
       "      <td>...</td>\n",
       "      <td>92.000000</td>\n",
       "      <td>96.000000</td>\n",
       "      <td>94.000000</td>\n",
       "      <td>93.000000</td>\n",
       "      <td>91.000000</td>\n",
       "      <td>90.000000</td>\n",
       "      <td>92.000000</td>\n",
       "      <td>91.000000</td>\n",
       "      <td>90.000000</td>\n",
       "      <td>94.000000</td>\n",
       "    </tr>\n",
       "  </tbody>\n",
       "</table>\n",
       "<p>8 rows × 38 columns</p>\n",
       "</div>"
      ],
      "text/plain": [
       "                Age       Overall     Potential     Weak Foot   Skill Moves  \\\n",
       "count  18207.000000  18207.000000  18207.000000  18159.000000  18159.000000   \n",
       "mean      25.122206     66.238699     71.307299      2.944215      2.362685   \n",
       "std        4.669943      6.908930      6.136496      0.664361      0.756561   \n",
       "min       16.000000     46.000000     48.000000      1.000000      1.000000   \n",
       "25%       21.000000     62.000000     67.000000      3.000000      2.000000   \n",
       "50%       25.000000     66.000000     71.000000      3.000000      2.000000   \n",
       "75%       28.000000     71.000000     75.000000      3.000000      3.000000   \n",
       "max       45.000000     94.000000     95.000000      5.000000      5.000000   \n",
       "\n",
       "          Finishing  HeadingAccuracy  ShortPassing       Volleys  \\\n",
       "count  18159.000000     18159.000000  18159.000000  18159.000000   \n",
       "mean      45.560273        52.282670     58.676579     42.938983   \n",
       "std       19.519091        17.393362     14.706456     17.698047   \n",
       "min        2.000000         4.000000      7.000000      4.000000   \n",
       "25%       30.000000        44.000000     54.000000     30.000000   \n",
       "50%       49.000000        56.000000     62.000000     44.000000   \n",
       "75%       62.000000        64.000000     68.000000     57.000000   \n",
       "max       95.000000        94.000000     93.000000     90.000000   \n",
       "\n",
       "          Dribbling  ...     Penalties     Composure       Marking  \\\n",
       "count  18159.000000  ...  18159.000000  18159.000000  18159.000000   \n",
       "mean      55.346990  ...     48.561760     58.630762     47.283496   \n",
       "std       18.922722  ...     15.704481     11.454790     19.900403   \n",
       "min        4.000000  ...      5.000000      3.000000      3.000000   \n",
       "25%       49.000000  ...     39.000000     51.000000     30.000000   \n",
       "50%       61.000000  ...     49.000000     60.000000     53.000000   \n",
       "75%       68.000000  ...     60.000000     67.000000     64.000000   \n",
       "max       97.000000  ...     92.000000     96.000000     94.000000   \n",
       "\n",
       "       StandingTackle  SlidingTackle      GKDiving    GKHandling  \\\n",
       "count    18159.000000   18159.000000  18159.000000  18159.000000   \n",
       "mean        47.701911      45.663858     16.664244     16.391707   \n",
       "std         21.663252      21.290492     17.733472     16.908588   \n",
       "min          2.000000       3.000000      1.000000      1.000000   \n",
       "25%         27.000000      24.000000      8.000000      8.000000   \n",
       "50%         55.000000      52.000000     11.000000     11.000000   \n",
       "75%         66.000000      64.000000     14.000000     14.000000   \n",
       "max         93.000000      91.000000     90.000000     92.000000   \n",
       "\n",
       "          GKKicking  GKPositioning    GKReflexes  \n",
       "count  18159.000000   18159.000000  18159.000000  \n",
       "mean      16.230409      16.390881     16.708519  \n",
       "std       16.501483      17.035594     17.956907  \n",
       "min        1.000000       1.000000      1.000000  \n",
       "25%        8.000000       8.000000      8.000000  \n",
       "50%       11.000000      11.000000     11.000000  \n",
       "75%       14.000000      14.000000     14.000000  \n",
       "max       91.000000      90.000000     94.000000  \n",
       "\n",
       "[8 rows x 38 columns]"
      ]
     },
     "execution_count": 7,
     "metadata": {},
     "output_type": "execute_result"
    }
   ],
   "source": [
    "footbal_df.describe() # distribution of continuous values"
   ]
  },
  {
   "cell_type": "markdown",
   "id": "00ec88a8",
   "metadata": {},
   "source": [
    "- Let's analyze each of the attributes and categorize them into continuous and categorical\n",
    "- Also, let's keep the most relevant attributes and discard others."
   ]
  },
  {
   "cell_type": "code",
   "execution_count": 8,
   "id": "fe730743",
   "metadata": {},
   "outputs": [
    {
     "data": {
      "text/plain": [
       "count    18207.000000\n",
       "mean        25.122206\n",
       "std          4.669943\n",
       "min         16.000000\n",
       "25%         21.000000\n",
       "50%         25.000000\n",
       "75%         28.000000\n",
       "max         45.000000\n",
       "Name: Age, dtype: float64"
      ]
     },
     "execution_count": 8,
     "metadata": {},
     "output_type": "execute_result"
    }
   ],
   "source": [
    "footbal_df['Age'].describe()"
   ]
  },
  {
   "cell_type": "code",
   "execution_count": 9,
   "metadata": {},
   "outputs": [
    {
     "data": {
      "text/plain": [
       "array([31, 33, 26, 27, 32, 25, 29, 28, 24, 30, 19, 40, 22, 23, 34, 35, 36,\n",
       "       37, 21, 18, 20, 39, 41, 17, 38, 45, 42, 16, 44])"
      ]
     },
     "execution_count": 9,
     "metadata": {},
     "output_type": "execute_result"
    }
   ],
   "source": [
    "footbal_df['Age'].unique()"
   ]
  },
  {
   "cell_type": "code",
   "execution_count": 10,
   "id": "925fb218",
   "metadata": {},
   "outputs": [
    {
     "data": {
      "text/plain": [
       "0        Argentina\n",
       "1         Portugal\n",
       "2           Brazil\n",
       "3            Spain\n",
       "4          Belgium\n",
       "           ...    \n",
       "18202      England\n",
       "18203       Sweden\n",
       "18204      England\n",
       "18205      England\n",
       "18206      England\n",
       "Name: Nationality, Length: 18207, dtype: object"
      ]
     },
     "execution_count": 10,
     "metadata": {},
     "output_type": "execute_result"
    }
   ],
   "source": [
    "footbal_df['Nationality']"
   ]
  },
  {
   "cell_type": "code",
   "execution_count": 11,
   "id": "a72ed83a",
   "metadata": {},
   "outputs": [
    {
     "data": {
      "text/plain": [
       "164"
      ]
     },
     "execution_count": 11,
     "metadata": {},
     "output_type": "execute_result"
    }
   ],
   "source": [
    "len(footbal_df['Nationality'].unique())"
   ]
  },
  {
   "cell_type": "code",
   "execution_count": 12,
   "id": "5028f773",
   "metadata": {},
   "outputs": [],
   "source": [
    "footbal_df = footbal_df.drop('Nationality', axis=1) # removing the 'Nationality' column as it's not a descriptive attribute"
   ]
  },
  {
   "cell_type": "markdown",
   "metadata": {},
   "source": [
    "-  'Overall' refers to a composite rating or score that represents a player's overall skill or performance level. This overall rating is often used in football video games."
   ]
  },
  {
   "cell_type": "code",
   "execution_count": 13,
   "id": "edb0d40d",
   "metadata": {},
   "outputs": [
    {
     "data": {
      "text/plain": [
       "count    18207.000000\n",
       "mean        66.238699\n",
       "std          6.908930\n",
       "min         46.000000\n",
       "25%         62.000000\n",
       "50%         66.000000\n",
       "75%         71.000000\n",
       "max         94.000000\n",
       "Name: Overall, dtype: float64"
      ]
     },
     "execution_count": 13,
     "metadata": {},
     "output_type": "execute_result"
    }
   ],
   "source": [
    "footbal_df['Overall'].describe()"
   ]
  },
  {
   "cell_type": "code",
   "execution_count": 14,
   "id": "ea7cb500",
   "metadata": {},
   "outputs": [
    {
     "data": {
      "text/plain": [
       "array([94, 92, 91, 90, 89, 88, 87, 86, 85, 84, 83, 82, 81, 80, 79, 78, 77,\n",
       "       76, 75, 74, 73, 72, 71, 70, 69, 68, 67, 66, 65, 64, 63, 62, 61, 60,\n",
       "       59, 58, 57, 56, 55, 54, 53, 52, 51, 50, 49, 48, 47, 46])"
      ]
     },
     "execution_count": 14,
     "metadata": {},
     "output_type": "execute_result"
    }
   ],
   "source": [
    "footbal_df['Overall'].unique()"
   ]
  },
  {
   "cell_type": "code",
   "execution_count": 15,
   "metadata": {},
   "outputs": [
    {
     "data": {
      "text/plain": [
       "count    18207.000000\n",
       "mean        71.307299\n",
       "std          6.136496\n",
       "min         48.000000\n",
       "25%         67.000000\n",
       "50%         71.000000\n",
       "75%         75.000000\n",
       "max         95.000000\n",
       "Name: Potential, dtype: float64"
      ]
     },
     "execution_count": 15,
     "metadata": {},
     "output_type": "execute_result"
    }
   ],
   "source": [
    "footbal_df['Potential'].describe()"
   ]
  },
  {
   "cell_type": "code",
   "execution_count": 16,
   "id": "0190bb63",
   "metadata": {},
   "outputs": [
    {
     "data": {
      "text/plain": [
       "array([94, 93, 92, 91, 90, 89, 95, 88, 87, 86, 85, 84, 83, 82, 81, 80, 79,\n",
       "       78, 77, 76, 75, 74, 73, 72, 71, 70, 69, 68, 67, 66, 65, 64, 63, 62,\n",
       "       61, 60, 59, 58, 57, 56, 55, 54, 53, 52, 51, 50, 48])"
      ]
     },
     "execution_count": 16,
     "metadata": {},
     "output_type": "execute_result"
    }
   ],
   "source": [
    "footbal_df['Potential'].unique()"
   ]
  },
  {
   "cell_type": "markdown",
   "metadata": {},
   "source": [
    "- 'Club' indicates the club affiliation of a player"
   ]
  },
  {
   "cell_type": "code",
   "execution_count": 17,
   "id": "0afa3b04",
   "metadata": {},
   "outputs": [
    {
     "data": {
      "text/plain": [
       "0               FC Barcelona\n",
       "1                   Juventus\n",
       "2        Paris Saint-Germain\n",
       "3          Manchester United\n",
       "4            Manchester City\n",
       "                ...         \n",
       "18202        Crewe Alexandra\n",
       "18203         Trelleborgs FF\n",
       "18204       Cambridge United\n",
       "18205        Tranmere Rovers\n",
       "18206        Tranmere Rovers\n",
       "Name: Club, Length: 18207, dtype: object"
      ]
     },
     "execution_count": 17,
     "metadata": {},
     "output_type": "execute_result"
    }
   ],
   "source": [
    "footbal_df['Club']"
   ]
  },
  {
   "cell_type": "code",
   "execution_count": 18,
   "id": "cf17cce6",
   "metadata": {},
   "outputs": [
    {
     "data": {
      "text/plain": [
       "652"
      ]
     },
     "execution_count": 18,
     "metadata": {},
     "output_type": "execute_result"
    }
   ],
   "source": [
    "len(footbal_df['Club'].unique())"
   ]
  },
  {
   "cell_type": "code",
   "execution_count": 19,
   "metadata": {},
   "outputs": [],
   "source": [
    "footbal_df = footbal_df.drop('Club', axis=1) # removing the 'Club' column"
   ]
  },
  {
   "cell_type": "markdown",
   "id": "46dd625c",
   "metadata": {},
   "source": [
    "- 'Value' and 'Wage' represents financial aspects of a player. Therefore, we are not considering them in our analysis."
   ]
  },
  {
   "cell_type": "code",
   "execution_count": 20,
   "metadata": {},
   "outputs": [],
   "source": [
    "footbal_df = footbal_df.drop('Value', axis=1) # removing the 'Value' column\n",
    "footbal_df = footbal_df.drop('Wage', axis=1) # removing the 'Wage' column"
   ]
  },
  {
   "cell_type": "markdown",
   "metadata": {},
   "source": [
    "----"
   ]
  },
  {
   "cell_type": "code",
   "execution_count": 21,
   "id": "a7fd40b4",
   "metadata": {},
   "outputs": [
    {
     "data": {
      "text/plain": [
       "count     18207\n",
       "unique     1433\n",
       "top        1745\n",
       "freq         47\n",
       "Name: Special, dtype: object"
      ]
     },
     "execution_count": 21,
     "metadata": {},
     "output_type": "execute_result"
    }
   ],
   "source": [
    "footbal_df['Special'].describe()"
   ]
  },
  {
   "cell_type": "code",
   "execution_count": 22,
   "metadata": {},
   "outputs": [
    {
     "data": {
      "text/html": [
       "<div>\n",
       "<style scoped>\n",
       "    .dataframe tbody tr th:only-of-type {\n",
       "        vertical-align: middle;\n",
       "    }\n",
       "\n",
       "    .dataframe tbody tr th {\n",
       "        vertical-align: top;\n",
       "    }\n",
       "\n",
       "    .dataframe thead th {\n",
       "        text-align: right;\n",
       "    }\n",
       "</style>\n",
       "<table border=\"1\" class=\"dataframe\">\n",
       "  <thead>\n",
       "    <tr style=\"text-align: right;\">\n",
       "      <th></th>\n",
       "      <th>Age</th>\n",
       "      <th>Overall</th>\n",
       "      <th>Potential</th>\n",
       "      <th>Special</th>\n",
       "      <th>Preferred Foot</th>\n",
       "      <th>International Reputation</th>\n",
       "      <th>Weak Foot</th>\n",
       "      <th>Skill Moves</th>\n",
       "      <th>Work Rate</th>\n",
       "      <th>Body Type</th>\n",
       "      <th>...</th>\n",
       "      <th>Composure</th>\n",
       "      <th>Marking</th>\n",
       "      <th>StandingTackle</th>\n",
       "      <th>SlidingTackle</th>\n",
       "      <th>GKDiving</th>\n",
       "      <th>GKHandling</th>\n",
       "      <th>GKKicking</th>\n",
       "      <th>GKPositioning</th>\n",
       "      <th>GKReflexes</th>\n",
       "      <th>Release Clause</th>\n",
       "    </tr>\n",
       "  </thead>\n",
       "  <tbody>\n",
       "    <tr>\n",
       "      <th>461</th>\n",
       "      <td>30</td>\n",
       "      <td>80</td>\n",
       "      <td>80</td>\n",
       "      <td>€24K</td>\n",
       "      <td>2006</td>\n",
       "      <td>Right</td>\n",
       "      <td>1.0</td>\n",
       "      <td>4.0</td>\n",
       "      <td>4</td>\n",
       "      <td>High/ Low</td>\n",
       "      <td>...</td>\n",
       "      <td>65.0</td>\n",
       "      <td>74.0</td>\n",
       "      <td>30.0</td>\n",
       "      <td>41.0</td>\n",
       "      <td>34.0</td>\n",
       "      <td>13.0</td>\n",
       "      <td>12.0</td>\n",
       "      <td>13.0</td>\n",
       "      <td>8.0</td>\n",
       "      <td>16</td>\n",
       "    </tr>\n",
       "    <tr>\n",
       "      <th>1758</th>\n",
       "      <td>29</td>\n",
       "      <td>75</td>\n",
       "      <td>75</td>\n",
       "      <td>€15K</td>\n",
       "      <td>1876</td>\n",
       "      <td>Right</td>\n",
       "      <td>1.0</td>\n",
       "      <td>3.0</td>\n",
       "      <td>3</td>\n",
       "      <td>Medium/ High</td>\n",
       "      <td>...</td>\n",
       "      <td>48.0</td>\n",
       "      <td>72.0</td>\n",
       "      <td>68.0</td>\n",
       "      <td>77.0</td>\n",
       "      <td>72.0</td>\n",
       "      <td>9.0</td>\n",
       "      <td>11.0</td>\n",
       "      <td>14.0</td>\n",
       "      <td>9.0</td>\n",
       "      <td>12</td>\n",
       "    </tr>\n",
       "    <tr>\n",
       "      <th>2262</th>\n",
       "      <td>29</td>\n",
       "      <td>74</td>\n",
       "      <td>74</td>\n",
       "      <td>€16K</td>\n",
       "      <td>1879</td>\n",
       "      <td>Left</td>\n",
       "      <td>1.0</td>\n",
       "      <td>3.0</td>\n",
       "      <td>3</td>\n",
       "      <td>High/ Medium</td>\n",
       "      <td>...</td>\n",
       "      <td>63.0</td>\n",
       "      <td>68.0</td>\n",
       "      <td>24.0</td>\n",
       "      <td>55.0</td>\n",
       "      <td>26.0</td>\n",
       "      <td>9.0</td>\n",
       "      <td>6.0</td>\n",
       "      <td>10.0</td>\n",
       "      <td>7.0</td>\n",
       "      <td>8</td>\n",
       "    </tr>\n",
       "    <tr>\n",
       "      <th>2590</th>\n",
       "      <td>33</td>\n",
       "      <td>74</td>\n",
       "      <td>74</td>\n",
       "      <td>€13K</td>\n",
       "      <td>1743</td>\n",
       "      <td>Left</td>\n",
       "      <td>1.0</td>\n",
       "      <td>2.0</td>\n",
       "      <td>2</td>\n",
       "      <td>High/ High</td>\n",
       "      <td>...</td>\n",
       "      <td>43.0</td>\n",
       "      <td>64.0</td>\n",
       "      <td>68.0</td>\n",
       "      <td>75.0</td>\n",
       "      <td>76.0</td>\n",
       "      <td>11.0</td>\n",
       "      <td>6.0</td>\n",
       "      <td>10.0</td>\n",
       "      <td>12.0</td>\n",
       "      <td>16</td>\n",
       "    </tr>\n",
       "    <tr>\n",
       "      <th>5881</th>\n",
       "      <td>27</td>\n",
       "      <td>69</td>\n",
       "      <td>69</td>\n",
       "      <td>€7K</td>\n",
       "      <td>1660</td>\n",
       "      <td>Right</td>\n",
       "      <td>1.0</td>\n",
       "      <td>3.0</td>\n",
       "      <td>2</td>\n",
       "      <td>Medium/ High</td>\n",
       "      <td>...</td>\n",
       "      <td>43.0</td>\n",
       "      <td>64.0</td>\n",
       "      <td>66.0</td>\n",
       "      <td>63.0</td>\n",
       "      <td>64.0</td>\n",
       "      <td>7.0</td>\n",
       "      <td>14.0</td>\n",
       "      <td>11.0</td>\n",
       "      <td>6.0</td>\n",
       "      <td>6</td>\n",
       "    </tr>\n",
       "    <tr>\n",
       "      <th>6879</th>\n",
       "      <td>28</td>\n",
       "      <td>68</td>\n",
       "      <td>69</td>\n",
       "      <td>€6K</td>\n",
       "      <td>1449</td>\n",
       "      <td>Right</td>\n",
       "      <td>1.0</td>\n",
       "      <td>3.0</td>\n",
       "      <td>2</td>\n",
       "      <td>Low/ Medium</td>\n",
       "      <td>...</td>\n",
       "      <td>41.0</td>\n",
       "      <td>56.0</td>\n",
       "      <td>65.0</td>\n",
       "      <td>68.0</td>\n",
       "      <td>66.0</td>\n",
       "      <td>6.0</td>\n",
       "      <td>13.0</td>\n",
       "      <td>14.0</td>\n",
       "      <td>10.0</td>\n",
       "      <td>16</td>\n",
       "    </tr>\n",
       "    <tr>\n",
       "      <th>7335</th>\n",
       "      <td>30</td>\n",
       "      <td>68</td>\n",
       "      <td>68</td>\n",
       "      <td>€5K</td>\n",
       "      <td>1010</td>\n",
       "      <td>Right</td>\n",
       "      <td>1.0</td>\n",
       "      <td>2.0</td>\n",
       "      <td>1</td>\n",
       "      <td>Medium/ Medium</td>\n",
       "      <td>...</td>\n",
       "      <td>15.0</td>\n",
       "      <td>62.0</td>\n",
       "      <td>11.0</td>\n",
       "      <td>6.0</td>\n",
       "      <td>9.0</td>\n",
       "      <td>67.0</td>\n",
       "      <td>67.0</td>\n",
       "      <td>69.0</td>\n",
       "      <td>69.0</td>\n",
       "      <td>64</td>\n",
       "    </tr>\n",
       "    <tr>\n",
       "      <th>8569</th>\n",
       "      <td>33</td>\n",
       "      <td>67</td>\n",
       "      <td>67</td>\n",
       "      <td>€6K</td>\n",
       "      <td>1710</td>\n",
       "      <td>Right</td>\n",
       "      <td>1.0</td>\n",
       "      <td>2.0</td>\n",
       "      <td>2</td>\n",
       "      <td>High/ Medium</td>\n",
       "      <td>...</td>\n",
       "      <td>48.0</td>\n",
       "      <td>60.0</td>\n",
       "      <td>24.0</td>\n",
       "      <td>45.0</td>\n",
       "      <td>47.0</td>\n",
       "      <td>10.0</td>\n",
       "      <td>11.0</td>\n",
       "      <td>16.0</td>\n",
       "      <td>6.0</td>\n",
       "      <td>13</td>\n",
       "    </tr>\n",
       "    <tr>\n",
       "      <th>10334</th>\n",
       "      <td>26</td>\n",
       "      <td>65</td>\n",
       "      <td>66</td>\n",
       "      <td>€4K</td>\n",
       "      <td>1740</td>\n",
       "      <td>Left</td>\n",
       "      <td>1.0</td>\n",
       "      <td>3.0</td>\n",
       "      <td>3</td>\n",
       "      <td>High/ Medium</td>\n",
       "      <td>...</td>\n",
       "      <td>45.0</td>\n",
       "      <td>59.0</td>\n",
       "      <td>59.0</td>\n",
       "      <td>57.0</td>\n",
       "      <td>54.0</td>\n",
       "      <td>9.0</td>\n",
       "      <td>11.0</td>\n",
       "      <td>11.0</td>\n",
       "      <td>8.0</td>\n",
       "      <td>15</td>\n",
       "    </tr>\n",
       "    <tr>\n",
       "      <th>11432</th>\n",
       "      <td>33</td>\n",
       "      <td>64</td>\n",
       "      <td>64</td>\n",
       "      <td>€4K</td>\n",
       "      <td>1798</td>\n",
       "      <td>Left</td>\n",
       "      <td>1.0</td>\n",
       "      <td>5.0</td>\n",
       "      <td>2</td>\n",
       "      <td>Medium/ Medium</td>\n",
       "      <td>...</td>\n",
       "      <td>49.0</td>\n",
       "      <td>50.0</td>\n",
       "      <td>59.0</td>\n",
       "      <td>50.0</td>\n",
       "      <td>56.0</td>\n",
       "      <td>11.0</td>\n",
       "      <td>7.0</td>\n",
       "      <td>9.0</td>\n",
       "      <td>7.0</td>\n",
       "      <td>11</td>\n",
       "    </tr>\n",
       "    <tr>\n",
       "      <th>12278</th>\n",
       "      <td>30</td>\n",
       "      <td>63</td>\n",
       "      <td>63</td>\n",
       "      <td>€3K</td>\n",
       "      <td>1701</td>\n",
       "      <td>Right</td>\n",
       "      <td>1.0</td>\n",
       "      <td>4.0</td>\n",
       "      <td>3</td>\n",
       "      <td>Medium/ Medium</td>\n",
       "      <td>...</td>\n",
       "      <td>47.0</td>\n",
       "      <td>50.0</td>\n",
       "      <td>63.0</td>\n",
       "      <td>49.0</td>\n",
       "      <td>35.0</td>\n",
       "      <td>7.0</td>\n",
       "      <td>11.0</td>\n",
       "      <td>7.0</td>\n",
       "      <td>14.0</td>\n",
       "      <td>16</td>\n",
       "    </tr>\n",
       "    <tr>\n",
       "      <th>13519</th>\n",
       "      <td>28</td>\n",
       "      <td>62</td>\n",
       "      <td>62</td>\n",
       "      <td>€3K</td>\n",
       "      <td>1646</td>\n",
       "      <td>Right</td>\n",
       "      <td>1.0</td>\n",
       "      <td>3.0</td>\n",
       "      <td>2</td>\n",
       "      <td>Medium/ Medium</td>\n",
       "      <td>...</td>\n",
       "      <td>38.0</td>\n",
       "      <td>58.0</td>\n",
       "      <td>60.0</td>\n",
       "      <td>60.0</td>\n",
       "      <td>57.0</td>\n",
       "      <td>12.0</td>\n",
       "      <td>15.0</td>\n",
       "      <td>13.0</td>\n",
       "      <td>10.0</td>\n",
       "      <td>11</td>\n",
       "    </tr>\n",
       "    <tr>\n",
       "      <th>13673</th>\n",
       "      <td>21</td>\n",
       "      <td>62</td>\n",
       "      <td>75</td>\n",
       "      <td>€2K</td>\n",
       "      <td>1455</td>\n",
       "      <td>Right</td>\n",
       "      <td>1.0</td>\n",
       "      <td>3.0</td>\n",
       "      <td>2</td>\n",
       "      <td>Low/ High</td>\n",
       "      <td>...</td>\n",
       "      <td>32.0</td>\n",
       "      <td>55.0</td>\n",
       "      <td>65.0</td>\n",
       "      <td>69.0</td>\n",
       "      <td>65.0</td>\n",
       "      <td>15.0</td>\n",
       "      <td>5.0</td>\n",
       "      <td>15.0</td>\n",
       "      <td>11.0</td>\n",
       "      <td>10</td>\n",
       "    </tr>\n",
       "    <tr>\n",
       "      <th>14028</th>\n",
       "      <td>28</td>\n",
       "      <td>61</td>\n",
       "      <td>61</td>\n",
       "      <td>€3K</td>\n",
       "      <td>1348</td>\n",
       "      <td>Right</td>\n",
       "      <td>1.0</td>\n",
       "      <td>2.0</td>\n",
       "      <td>2</td>\n",
       "      <td>Medium/ Medium</td>\n",
       "      <td>...</td>\n",
       "      <td>38.0</td>\n",
       "      <td>50.0</td>\n",
       "      <td>60.0</td>\n",
       "      <td>61.0</td>\n",
       "      <td>61.0</td>\n",
       "      <td>12.0</td>\n",
       "      <td>10.0</td>\n",
       "      <td>11.0</td>\n",
       "      <td>10.0</td>\n",
       "      <td>11</td>\n",
       "    </tr>\n",
       "    <tr>\n",
       "      <th>15352</th>\n",
       "      <td>26</td>\n",
       "      <td>59</td>\n",
       "      <td>61</td>\n",
       "      <td>€2K</td>\n",
       "      <td>1599</td>\n",
       "      <td>Right</td>\n",
       "      <td>1.0</td>\n",
       "      <td>3.0</td>\n",
       "      <td>2</td>\n",
       "      <td>Medium/ High</td>\n",
       "      <td>...</td>\n",
       "      <td>50.0</td>\n",
       "      <td>54.0</td>\n",
       "      <td>57.0</td>\n",
       "      <td>52.0</td>\n",
       "      <td>48.0</td>\n",
       "      <td>10.0</td>\n",
       "      <td>11.0</td>\n",
       "      <td>10.0</td>\n",
       "      <td>11.0</td>\n",
       "      <td>15</td>\n",
       "    </tr>\n",
       "    <tr>\n",
       "      <th>16165</th>\n",
       "      <td>25</td>\n",
       "      <td>58</td>\n",
       "      <td>61</td>\n",
       "      <td>€2K</td>\n",
       "      <td>1535</td>\n",
       "      <td>Right</td>\n",
       "      <td>1.0</td>\n",
       "      <td>3.0</td>\n",
       "      <td>2</td>\n",
       "      <td>High/ High</td>\n",
       "      <td>...</td>\n",
       "      <td>47.0</td>\n",
       "      <td>40.0</td>\n",
       "      <td>55.0</td>\n",
       "      <td>53.0</td>\n",
       "      <td>51.0</td>\n",
       "      <td>14.0</td>\n",
       "      <td>15.0</td>\n",
       "      <td>10.0</td>\n",
       "      <td>9.0</td>\n",
       "      <td>13</td>\n",
       "    </tr>\n",
       "    <tr>\n",
       "      <th>16251</th>\n",
       "      <td>34</td>\n",
       "      <td>58</td>\n",
       "      <td>58</td>\n",
       "      <td>€2K</td>\n",
       "      <td>1187</td>\n",
       "      <td>Right</td>\n",
       "      <td>1.0</td>\n",
       "      <td>2.0</td>\n",
       "      <td>1</td>\n",
       "      <td>Medium/ Medium</td>\n",
       "      <td>...</td>\n",
       "      <td>15.0</td>\n",
       "      <td>65.0</td>\n",
       "      <td>28.0</td>\n",
       "      <td>23.0</td>\n",
       "      <td>28.0</td>\n",
       "      <td>59.0</td>\n",
       "      <td>55.0</td>\n",
       "      <td>58.0</td>\n",
       "      <td>55.0</td>\n",
       "      <td>57</td>\n",
       "    </tr>\n",
       "    <tr>\n",
       "      <th>17095</th>\n",
       "      <td>25</td>\n",
       "      <td>55</td>\n",
       "      <td>57</td>\n",
       "      <td>€2K</td>\n",
       "      <td>1471</td>\n",
       "      <td>Left</td>\n",
       "      <td>1.0</td>\n",
       "      <td>4.0</td>\n",
       "      <td>2</td>\n",
       "      <td>Medium/ Medium</td>\n",
       "      <td>...</td>\n",
       "      <td>49.0</td>\n",
       "      <td>50.0</td>\n",
       "      <td>55.0</td>\n",
       "      <td>29.0</td>\n",
       "      <td>36.0</td>\n",
       "      <td>9.0</td>\n",
       "      <td>6.0</td>\n",
       "      <td>12.0</td>\n",
       "      <td>13.0</td>\n",
       "      <td>7</td>\n",
       "    </tr>\n",
       "    <tr>\n",
       "      <th>17230</th>\n",
       "      <td>22</td>\n",
       "      <td>55</td>\n",
       "      <td>61</td>\n",
       "      <td>€2K</td>\n",
       "      <td>1424</td>\n",
       "      <td>Right</td>\n",
       "      <td>1.0</td>\n",
       "      <td>3.0</td>\n",
       "      <td>2</td>\n",
       "      <td>Medium/ Medium</td>\n",
       "      <td>...</td>\n",
       "      <td>47.0</td>\n",
       "      <td>41.0</td>\n",
       "      <td>48.0</td>\n",
       "      <td>26.0</td>\n",
       "      <td>36.0</td>\n",
       "      <td>13.0</td>\n",
       "      <td>13.0</td>\n",
       "      <td>10.0</td>\n",
       "      <td>10.0</td>\n",
       "      <td>16</td>\n",
       "    </tr>\n",
       "    <tr>\n",
       "      <th>17425</th>\n",
       "      <td>20</td>\n",
       "      <td>54</td>\n",
       "      <td>68</td>\n",
       "      <td>€2K</td>\n",
       "      <td>1580</td>\n",
       "      <td>Right</td>\n",
       "      <td>1.0</td>\n",
       "      <td>3.0</td>\n",
       "      <td>2</td>\n",
       "      <td>Medium/ Medium</td>\n",
       "      <td>...</td>\n",
       "      <td>36.0</td>\n",
       "      <td>39.0</td>\n",
       "      <td>60.0</td>\n",
       "      <td>41.0</td>\n",
       "      <td>42.0</td>\n",
       "      <td>5.0</td>\n",
       "      <td>12.0</td>\n",
       "      <td>14.0</td>\n",
       "      <td>14.0</td>\n",
       "      <td>11</td>\n",
       "    </tr>\n",
       "    <tr>\n",
       "      <th>17435</th>\n",
       "      <td>19</td>\n",
       "      <td>54</td>\n",
       "      <td>74</td>\n",
       "      <td>€1K</td>\n",
       "      <td>856</td>\n",
       "      <td>Right</td>\n",
       "      <td>1.0</td>\n",
       "      <td>3.0</td>\n",
       "      <td>1</td>\n",
       "      <td>Medium/ Medium</td>\n",
       "      <td>...</td>\n",
       "      <td>18.0</td>\n",
       "      <td>57.0</td>\n",
       "      <td>20.0</td>\n",
       "      <td>14.0</td>\n",
       "      <td>14.0</td>\n",
       "      <td>59.0</td>\n",
       "      <td>51.0</td>\n",
       "      <td>59.0</td>\n",
       "      <td>51.0</td>\n",
       "      <td>46</td>\n",
       "    </tr>\n",
       "    <tr>\n",
       "      <th>17646</th>\n",
       "      <td>21</td>\n",
       "      <td>53</td>\n",
       "      <td>62</td>\n",
       "      <td>€1K</td>\n",
       "      <td>1337</td>\n",
       "      <td>Right</td>\n",
       "      <td>1.0</td>\n",
       "      <td>3.0</td>\n",
       "      <td>2</td>\n",
       "      <td>Medium/ Medium</td>\n",
       "      <td>...</td>\n",
       "      <td>33.0</td>\n",
       "      <td>36.0</td>\n",
       "      <td>55.0</td>\n",
       "      <td>46.0</td>\n",
       "      <td>44.0</td>\n",
       "      <td>5.0</td>\n",
       "      <td>11.0</td>\n",
       "      <td>9.0</td>\n",
       "      <td>14.0</td>\n",
       "      <td>14</td>\n",
       "    </tr>\n",
       "    <tr>\n",
       "      <th>17822</th>\n",
       "      <td>19</td>\n",
       "      <td>52</td>\n",
       "      <td>64</td>\n",
       "      <td>€1K</td>\n",
       "      <td>1206</td>\n",
       "      <td>Right</td>\n",
       "      <td>1.0</td>\n",
       "      <td>3.0</td>\n",
       "      <td>2</td>\n",
       "      <td>Medium/ Medium</td>\n",
       "      <td>...</td>\n",
       "      <td>34.0</td>\n",
       "      <td>37.0</td>\n",
       "      <td>50.0</td>\n",
       "      <td>57.0</td>\n",
       "      <td>55.0</td>\n",
       "      <td>12.0</td>\n",
       "      <td>5.0</td>\n",
       "      <td>6.0</td>\n",
       "      <td>12.0</td>\n",
       "      <td>7</td>\n",
       "    </tr>\n",
       "    <tr>\n",
       "      <th>17964</th>\n",
       "      <td>22</td>\n",
       "      <td>51</td>\n",
       "      <td>58</td>\n",
       "      <td>€2K</td>\n",
       "      <td>1486</td>\n",
       "      <td>Right</td>\n",
       "      <td>1.0</td>\n",
       "      <td>3.0</td>\n",
       "      <td>2</td>\n",
       "      <td>Medium/ Medium</td>\n",
       "      <td>...</td>\n",
       "      <td>40.0</td>\n",
       "      <td>44.0</td>\n",
       "      <td>57.0</td>\n",
       "      <td>41.0</td>\n",
       "      <td>45.0</td>\n",
       "      <td>6.0</td>\n",
       "      <td>10.0</td>\n",
       "      <td>13.0</td>\n",
       "      <td>10.0</td>\n",
       "      <td>14</td>\n",
       "    </tr>\n",
       "    <tr>\n",
       "      <th>18067</th>\n",
       "      <td>26</td>\n",
       "      <td>50</td>\n",
       "      <td>52</td>\n",
       "      <td>€2K</td>\n",
       "      <td>1402</td>\n",
       "      <td>Right</td>\n",
       "      <td>1.0</td>\n",
       "      <td>3.0</td>\n",
       "      <td>2</td>\n",
       "      <td>Medium/ Medium</td>\n",
       "      <td>...</td>\n",
       "      <td>40.0</td>\n",
       "      <td>36.0</td>\n",
       "      <td>50.0</td>\n",
       "      <td>49.0</td>\n",
       "      <td>45.0</td>\n",
       "      <td>9.0</td>\n",
       "      <td>12.0</td>\n",
       "      <td>12.0</td>\n",
       "      <td>12.0</td>\n",
       "      <td>11</td>\n",
       "    </tr>\n",
       "    <tr>\n",
       "      <th>18141</th>\n",
       "      <td>19</td>\n",
       "      <td>49</td>\n",
       "      <td>67</td>\n",
       "      <td>€1K</td>\n",
       "      <td>1392</td>\n",
       "      <td>Right</td>\n",
       "      <td>1.0</td>\n",
       "      <td>3.0</td>\n",
       "      <td>2</td>\n",
       "      <td>Medium/ Medium</td>\n",
       "      <td>...</td>\n",
       "      <td>38.0</td>\n",
       "      <td>44.0</td>\n",
       "      <td>56.0</td>\n",
       "      <td>47.0</td>\n",
       "      <td>48.0</td>\n",
       "      <td>11.0</td>\n",
       "      <td>8.0</td>\n",
       "      <td>7.0</td>\n",
       "      <td>6.0</td>\n",
       "      <td>9</td>\n",
       "    </tr>\n",
       "    <tr>\n",
       "      <th>18142</th>\n",
       "      <td>20</td>\n",
       "      <td>49</td>\n",
       "      <td>61</td>\n",
       "      <td>€1K</td>\n",
       "      <td>1453</td>\n",
       "      <td>Right</td>\n",
       "      <td>1.0</td>\n",
       "      <td>3.0</td>\n",
       "      <td>2</td>\n",
       "      <td>Medium/ Medium</td>\n",
       "      <td>...</td>\n",
       "      <td>43.0</td>\n",
       "      <td>38.0</td>\n",
       "      <td>60.0</td>\n",
       "      <td>51.0</td>\n",
       "      <td>47.0</td>\n",
       "      <td>12.0</td>\n",
       "      <td>10.0</td>\n",
       "      <td>9.0</td>\n",
       "      <td>12.0</td>\n",
       "      <td>10</td>\n",
       "    </tr>\n",
       "    <tr>\n",
       "      <th>18163</th>\n",
       "      <td>20</td>\n",
       "      <td>48</td>\n",
       "      <td>58</td>\n",
       "      <td>€1K</td>\n",
       "      <td>1281</td>\n",
       "      <td>Right</td>\n",
       "      <td>1.0</td>\n",
       "      <td>3.0</td>\n",
       "      <td>2</td>\n",
       "      <td>High/ Medium</td>\n",
       "      <td>...</td>\n",
       "      <td>33.0</td>\n",
       "      <td>33.0</td>\n",
       "      <td>49.0</td>\n",
       "      <td>43.0</td>\n",
       "      <td>43.0</td>\n",
       "      <td>10.0</td>\n",
       "      <td>12.0</td>\n",
       "      <td>8.0</td>\n",
       "      <td>8.0</td>\n",
       "      <td>12</td>\n",
       "    </tr>\n",
       "  </tbody>\n",
       "</table>\n",
       "<p>28 rows × 53 columns</p>\n",
       "</div>"
      ],
      "text/plain": [
       "       Age  Overall  Potential Special Preferred Foot  \\\n",
       "461     30       80         80    €24K           2006   \n",
       "1758    29       75         75    €15K           1876   \n",
       "2262    29       74         74    €16K           1879   \n",
       "2590    33       74         74    €13K           1743   \n",
       "5881    27       69         69     €7K           1660   \n",
       "6879    28       68         69     €6K           1449   \n",
       "7335    30       68         68     €5K           1010   \n",
       "8569    33       67         67     €6K           1710   \n",
       "10334   26       65         66     €4K           1740   \n",
       "11432   33       64         64     €4K           1798   \n",
       "12278   30       63         63     €3K           1701   \n",
       "13519   28       62         62     €3K           1646   \n",
       "13673   21       62         75     €2K           1455   \n",
       "14028   28       61         61     €3K           1348   \n",
       "15352   26       59         61     €2K           1599   \n",
       "16165   25       58         61     €2K           1535   \n",
       "16251   34       58         58     €2K           1187   \n",
       "17095   25       55         57     €2K           1471   \n",
       "17230   22       55         61     €2K           1424   \n",
       "17425   20       54         68     €2K           1580   \n",
       "17435   19       54         74     €1K            856   \n",
       "17646   21       53         62     €1K           1337   \n",
       "17822   19       52         64     €1K           1206   \n",
       "17964   22       51         58     €2K           1486   \n",
       "18067   26       50         52     €2K           1402   \n",
       "18141   19       49         67     €1K           1392   \n",
       "18142   20       49         61     €1K           1453   \n",
       "18163   20       48         58     €1K           1281   \n",
       "\n",
       "      International Reputation  Weak Foot  Skill Moves Work Rate  \\\n",
       "461                      Right        1.0          4.0         4   \n",
       "1758                     Right        1.0          3.0         3   \n",
       "2262                      Left        1.0          3.0         3   \n",
       "2590                      Left        1.0          2.0         2   \n",
       "5881                     Right        1.0          3.0         2   \n",
       "6879                     Right        1.0          3.0         2   \n",
       "7335                     Right        1.0          2.0         1   \n",
       "8569                     Right        1.0          2.0         2   \n",
       "10334                     Left        1.0          3.0         3   \n",
       "11432                     Left        1.0          5.0         2   \n",
       "12278                    Right        1.0          4.0         3   \n",
       "13519                    Right        1.0          3.0         2   \n",
       "13673                    Right        1.0          3.0         2   \n",
       "14028                    Right        1.0          2.0         2   \n",
       "15352                    Right        1.0          3.0         2   \n",
       "16165                    Right        1.0          3.0         2   \n",
       "16251                    Right        1.0          2.0         1   \n",
       "17095                     Left        1.0          4.0         2   \n",
       "17230                    Right        1.0          3.0         2   \n",
       "17425                    Right        1.0          3.0         2   \n",
       "17435                    Right        1.0          3.0         1   \n",
       "17646                    Right        1.0          3.0         2   \n",
       "17822                    Right        1.0          3.0         2   \n",
       "17964                    Right        1.0          3.0         2   \n",
       "18067                    Right        1.0          3.0         2   \n",
       "18141                    Right        1.0          3.0         2   \n",
       "18142                    Right        1.0          3.0         2   \n",
       "18163                    Right        1.0          3.0         2   \n",
       "\n",
       "            Body Type  ... Composure Marking StandingTackle SlidingTackle  \\\n",
       "461         High/ Low  ...      65.0    74.0           30.0          41.0   \n",
       "1758     Medium/ High  ...      48.0    72.0           68.0          77.0   \n",
       "2262     High/ Medium  ...      63.0    68.0           24.0          55.0   \n",
       "2590       High/ High  ...      43.0    64.0           68.0          75.0   \n",
       "5881     Medium/ High  ...      43.0    64.0           66.0          63.0   \n",
       "6879      Low/ Medium  ...      41.0    56.0           65.0          68.0   \n",
       "7335   Medium/ Medium  ...      15.0    62.0           11.0           6.0   \n",
       "8569     High/ Medium  ...      48.0    60.0           24.0          45.0   \n",
       "10334    High/ Medium  ...      45.0    59.0           59.0          57.0   \n",
       "11432  Medium/ Medium  ...      49.0    50.0           59.0          50.0   \n",
       "12278  Medium/ Medium  ...      47.0    50.0           63.0          49.0   \n",
       "13519  Medium/ Medium  ...      38.0    58.0           60.0          60.0   \n",
       "13673       Low/ High  ...      32.0    55.0           65.0          69.0   \n",
       "14028  Medium/ Medium  ...      38.0    50.0           60.0          61.0   \n",
       "15352    Medium/ High  ...      50.0    54.0           57.0          52.0   \n",
       "16165      High/ High  ...      47.0    40.0           55.0          53.0   \n",
       "16251  Medium/ Medium  ...      15.0    65.0           28.0          23.0   \n",
       "17095  Medium/ Medium  ...      49.0    50.0           55.0          29.0   \n",
       "17230  Medium/ Medium  ...      47.0    41.0           48.0          26.0   \n",
       "17425  Medium/ Medium  ...      36.0    39.0           60.0          41.0   \n",
       "17435  Medium/ Medium  ...      18.0    57.0           20.0          14.0   \n",
       "17646  Medium/ Medium  ...      33.0    36.0           55.0          46.0   \n",
       "17822  Medium/ Medium  ...      34.0    37.0           50.0          57.0   \n",
       "17964  Medium/ Medium  ...      40.0    44.0           57.0          41.0   \n",
       "18067  Medium/ Medium  ...      40.0    36.0           50.0          49.0   \n",
       "18141  Medium/ Medium  ...      38.0    44.0           56.0          47.0   \n",
       "18142  Medium/ Medium  ...      43.0    38.0           60.0          51.0   \n",
       "18163    High/ Medium  ...      33.0    33.0           49.0          43.0   \n",
       "\n",
       "      GKDiving GKHandling GKKicking GKPositioning GKReflexes  Release Clause  \n",
       "461       34.0       13.0      12.0          13.0        8.0              16  \n",
       "1758      72.0        9.0      11.0          14.0        9.0              12  \n",
       "2262      26.0        9.0       6.0          10.0        7.0               8  \n",
       "2590      76.0       11.0       6.0          10.0       12.0              16  \n",
       "5881      64.0        7.0      14.0          11.0        6.0               6  \n",
       "6879      66.0        6.0      13.0          14.0       10.0              16  \n",
       "7335       9.0       67.0      67.0          69.0       69.0              64  \n",
       "8569      47.0       10.0      11.0          16.0        6.0              13  \n",
       "10334     54.0        9.0      11.0          11.0        8.0              15  \n",
       "11432     56.0       11.0       7.0           9.0        7.0              11  \n",
       "12278     35.0        7.0      11.0           7.0       14.0              16  \n",
       "13519     57.0       12.0      15.0          13.0       10.0              11  \n",
       "13673     65.0       15.0       5.0          15.0       11.0              10  \n",
       "14028     61.0       12.0      10.0          11.0       10.0              11  \n",
       "15352     48.0       10.0      11.0          10.0       11.0              15  \n",
       "16165     51.0       14.0      15.0          10.0        9.0              13  \n",
       "16251     28.0       59.0      55.0          58.0       55.0              57  \n",
       "17095     36.0        9.0       6.0          12.0       13.0               7  \n",
       "17230     36.0       13.0      13.0          10.0       10.0              16  \n",
       "17425     42.0        5.0      12.0          14.0       14.0              11  \n",
       "17435     14.0       59.0      51.0          59.0       51.0              46  \n",
       "17646     44.0        5.0      11.0           9.0       14.0              14  \n",
       "17822     55.0       12.0       5.0           6.0       12.0               7  \n",
       "17964     45.0        6.0      10.0          13.0       10.0              14  \n",
       "18067     45.0        9.0      12.0          12.0       12.0              11  \n",
       "18141     48.0       11.0       8.0           7.0        6.0               9  \n",
       "18142     47.0       12.0      10.0           9.0       12.0              10  \n",
       "18163     43.0       10.0      12.0           8.0        8.0              12  \n",
       "\n",
       "[28 rows x 53 columns]"
      ]
     },
     "execution_count": 22,
     "metadata": {},
     "output_type": "execute_result"
    }
   ],
   "source": [
    "results = footbal_df.loc[footbal_df[\"Special\"].str.contains('€')]\n",
    "results"
   ]
  },
  {
   "cell_type": "markdown",
   "metadata": {},
   "source": [
    "- From the analysis of 'Special' column, it doesn't seem to be an important attribute, especially to indicate about a player's performance. Therefore, we are removing it."
   ]
  },
  {
   "cell_type": "code",
   "execution_count": 23,
   "metadata": {},
   "outputs": [],
   "source": [
    "footbal_df = footbal_df.drop('Special', axis=1) # removing the 'Value' column"
   ]
  },
  {
   "cell_type": "markdown",
   "metadata": {},
   "source": [
    "----"
   ]
  },
  {
   "cell_type": "markdown",
   "metadata": {},
   "source": [
    "- Let's analyze the column 'Preferred foot'"
   ]
  },
  {
   "cell_type": "code",
   "execution_count": 24,
   "metadata": {},
   "outputs": [
    {
     "data": {
      "text/plain": [
       "array(['Left', 'Right', '2006', '1876', '1879', '1743', '1660', '1449',\n",
       "       '1010', '1710', '1740', '1798', '1701', nan, '1646', '1455',\n",
       "       '1348', '1599', '1535', '1187', '1471', '1424', '1580', '856',\n",
       "       '1337', '1206', '1486', '1402', '1392', '1453', '1281'],\n",
       "      dtype=object)"
      ]
     },
     "execution_count": 24,
     "metadata": {},
     "output_type": "execute_result"
    }
   ],
   "source": [
    "footbal_df['Preferred Foot'].unique()"
   ]
  },
  {
   "cell_type": "markdown",
   "metadata": {},
   "source": [
    "- Let's remove all rows  for which the value of the column 'Preferred Foot' is neither 'Left', nor 'Right'"
   ]
  },
  {
   "cell_type": "code",
   "execution_count": 25,
   "metadata": {},
   "outputs": [],
   "source": [
    "idxs = footbal_df[(footbal_df['Preferred Foot'] != 'Left') & (footbal_df['Preferred Foot'] != 'Right')].index.tolist()\n",
    "footbal_df = footbal_df.drop(idxs, axis=0)"
   ]
  },
  {
   "cell_type": "code",
   "execution_count": 26,
   "metadata": {},
   "outputs": [
    {
     "data": {
      "text/plain": [
       "array(['Left', 'Right'], dtype=object)"
      ]
     },
     "execution_count": 26,
     "metadata": {},
     "output_type": "execute_result"
    }
   ],
   "source": [
    "footbal_df['Preferred Foot'].unique()"
   ]
  },
  {
   "cell_type": "markdown",
   "metadata": {},
   "source": [
    "----"
   ]
  },
  {
   "cell_type": "code",
   "execution_count": 27,
   "id": "e4b68adc",
   "metadata": {},
   "outputs": [
    {
     "data": {
      "text/plain": [
       "0        5\n",
       "1        5\n",
       "2        5\n",
       "3        4\n",
       "4        4\n",
       "        ..\n",
       "18202    1\n",
       "18203    1\n",
       "18204    1\n",
       "18205    1\n",
       "18206    1\n",
       "Name: International Reputation, Length: 18131, dtype: object"
      ]
     },
     "execution_count": 27,
     "metadata": {},
     "output_type": "execute_result"
    }
   ],
   "source": [
    "footbal_df['International Reputation']"
   ]
  },
  {
   "cell_type": "code",
   "execution_count": 28,
   "id": "85a48e9e",
   "metadata": {},
   "outputs": [
    {
     "data": {
      "text/plain": [
       "array(['5', '4', '3', '2', '1'], dtype=object)"
      ]
     },
     "execution_count": 28,
     "metadata": {},
     "output_type": "execute_result"
    }
   ],
   "source": [
    "footbal_df['International Reputation'].unique()"
   ]
  },
  {
   "cell_type": "markdown",
   "metadata": {},
   "source": [
    "----"
   ]
  },
  {
   "cell_type": "markdown",
   "id": "12aefaed",
   "metadata": {},
   "source": [
    "- A weak foot just means that your gameplay is better when you use one foot instead of the other.\n",
    "- 5-star weak foot rating signifies that a player is equally proficient with both feet. 4-star rating suggests strong competence with their non-dominant foot. 3-star rating means the player can use their weak foot adequately. 2-star rating indicates limited ability."
   ]
  },
  {
   "cell_type": "code",
   "execution_count": 29,
   "id": "26a40fec",
   "metadata": {},
   "outputs": [
    {
     "data": {
      "text/plain": [
       "array([4., 5., 3., 2., 1.])"
      ]
     },
     "execution_count": 29,
     "metadata": {},
     "output_type": "execute_result"
    }
   ],
   "source": [
    "footbal_df['Weak Foot'].unique()"
   ]
  },
  {
   "cell_type": "markdown",
   "metadata": {},
   "source": [
    "----"
   ]
  },
  {
   "cell_type": "markdown",
   "id": "35dbe2f1",
   "metadata": {},
   "source": [
    "- Every player in the game has an independent 'skill moves' rating, and determines how many tricks he or she can pull off. One-star players can only unleash moves in that category, whereas five-star players can nail every last one."
   ]
  },
  {
   "cell_type": "code",
   "execution_count": 30,
   "id": "5e913361",
   "metadata": {},
   "outputs": [
    {
     "data": {
      "text/plain": [
       "array([4., 5., 1., 3., 2.])"
      ]
     },
     "execution_count": 30,
     "metadata": {},
     "output_type": "execute_result"
    }
   ],
   "source": [
    "footbal_df['Skill Moves'].unique()"
   ]
  },
  {
   "cell_type": "markdown",
   "metadata": {},
   "source": [
    "----"
   ]
  },
  {
   "cell_type": "markdown",
   "id": "d5c3caae",
   "metadata": {},
   "source": [
    "- 'Work Rate' refers to the extent to which a player contributes to running and chasing in a match while not in possession of the ball.\n",
    "    Medium/Medium (M/M): A balanced work rate for both attacking and defensive activities. The player tends to contribute equally to both phases of the game.\n",
    "    - High/Medium (H/M): The player has a higher inclination towards attacking actions but still contributes defensively.\n",
    "    - Medium/High (M/H): The player is more likely to be involved in defensive tasks but still contributes to attacking play.\n",
    "    - High/High (H/H): A player with a high work rate for both attacking and defensive activities. This player is often very active and covers a lot of ground.\n",
    "    - Medium/Low (M/L): The player is more focused on defensive duties and is less likely to contribute significantly to attacking plays.\n",
    "    - High/Low (H/L): The player has a higher work rate in attacking situations but tends to stay back more during defensive phases.\n",
    "    - Low/Medium (L/M): The player is less likely to contribute to attacking plays but is reasonably involved defensively.\n",
    "    - Low/High (L/H): A player with a lower inclination towards attacking actions but more active in defensive tasks.\n",
    "    - Low/Low (L/L): The player has a low work rate for both attacking and defensive activities. This player may seem less involved overall."
   ]
  },
  {
   "cell_type": "code",
   "execution_count": 31,
   "metadata": {},
   "outputs": [
    {
     "data": {
      "text/plain": [
       "Work Rate\n",
       "Medium/ Medium    9794\n",
       "High/ Medium      3169\n",
       "Medium/ High      1687\n",
       "High/ High        1013\n",
       "Medium/ Low        850\n",
       "High/ Low          698\n",
       "Low/ Medium        448\n",
       "Low/ High          438\n",
       "Low/ Low            34\n",
       "Name: count, dtype: int64"
      ]
     },
     "execution_count": 31,
     "metadata": {},
     "output_type": "execute_result"
    }
   ],
   "source": [
    "footbal_df['Work Rate'].value_counts()"
   ]
  },
  {
   "cell_type": "code",
   "execution_count": 32,
   "metadata": {},
   "outputs": [
    {
     "data": {
      "text/plain": [
       "array(['Medium/ Medium', 'High/ Low', 'High/ Medium', 'High/ High',\n",
       "       'Medium/ High', 'Medium/ Low', 'Low/ High', 'Low/ Medium',\n",
       "       'Low/ Low'], dtype=object)"
      ]
     },
     "execution_count": 32,
     "metadata": {},
     "output_type": "execute_result"
    }
   ],
   "source": [
    "footbal_df['Work Rate'].unique()"
   ]
  },
  {
   "cell_type": "markdown",
   "metadata": {},
   "source": [
    "----"
   ]
  },
  {
   "cell_type": "code",
   "execution_count": 33,
   "id": "35efbd75",
   "metadata": {},
   "outputs": [
    {
     "data": {
      "text/plain": [
       "array(['Messi', 'C. Ronaldo', 'Neymar', 'Lean', 'Normal', 'Courtois',\n",
       "       'Stocky', 'PLAYER_BODY_TYPE_25', 'Shaqiri', 'Akinfenwa'],\n",
       "      dtype=object)"
      ]
     },
     "execution_count": 33,
     "metadata": {},
     "output_type": "execute_result"
    }
   ],
   "source": [
    "footbal_df['Body Type'].unique()"
   ]
  },
  {
   "cell_type": "code",
   "execution_count": 34,
   "id": "c4a2c6f8",
   "metadata": {},
   "outputs": [
    {
     "data": {
      "text/plain": [
       "Body Type\n",
       "Normal                 10584\n",
       "Lean                    6402\n",
       "Stocky                  1138\n",
       "Messi                      1\n",
       "C. Ronaldo                 1\n",
       "Neymar                     1\n",
       "Courtois                   1\n",
       "PLAYER_BODY_TYPE_25        1\n",
       "Shaqiri                    1\n",
       "Akinfenwa                  1\n",
       "Name: count, dtype: int64"
      ]
     },
     "execution_count": 34,
     "metadata": {},
     "output_type": "execute_result"
    }
   ],
   "source": [
    "footbal_df['Body Type'].value_counts()"
   ]
  },
  {
   "cell_type": "markdown",
   "id": "bd032e5c",
   "metadata": {},
   "source": [
    "- We will probably have to remove all the six rows where the 'Body Type' value is anything apart from 'Normal', 'Lean', 'Stocky'."
   ]
  },
  {
   "cell_type": "code",
   "execution_count": 35,
   "metadata": {},
   "outputs": [],
   "source": [
    "idxs = footbal_df[(footbal_df['Body Type'] != 'Normal') & (footbal_df['Body Type'] != 'Lean') & (footbal_df['Body Type'] != 'Stocky')].index.tolist()\n",
    "footbal_df = footbal_df.drop(idxs, axis=0)"
   ]
  },
  {
   "cell_type": "code",
   "execution_count": 36,
   "metadata": {},
   "outputs": [
    {
     "data": {
      "text/plain": [
       "array(['Lean', 'Normal', 'Stocky'], dtype=object)"
      ]
     },
     "execution_count": 36,
     "metadata": {},
     "output_type": "execute_result"
    }
   ],
   "source": [
    "footbal_df['Body Type'].unique()"
   ]
  },
  {
   "cell_type": "markdown",
   "metadata": {},
   "source": [
    "- So, we have successfully preprocessed the column 'Body Type'"
   ]
  },
  {
   "cell_type": "markdown",
   "metadata": {},
   "source": [
    "----"
   ]
  },
  {
   "cell_type": "markdown",
   "id": "9f80b6bf",
   "metadata": {},
   "source": [
    "- The term \"Real Face\" refers to a feature in video games, particularly football simulation games like FIFA. In these games, the \"Real Face\" feature involves using advanced facial scanning and mapping technologies to create highly realistic and detailed representations of real-life football players within the virtual game environment. This feature doesn't provide any insights into a player's real-life performance statistics, as it's essentially a graphical and aesthetic feature.\n",
    "- Let's remove the 'Real Face'"
   ]
  },
  {
   "cell_type": "code",
   "execution_count": 37,
   "metadata": {},
   "outputs": [],
   "source": [
    "footbal_df = footbal_df.drop('Real Face', axis=1) # removing the 'Real Face' column"
   ]
  },
  {
   "cell_type": "markdown",
   "metadata": {},
   "source": [
    "----"
   ]
  },
  {
   "cell_type": "code",
   "execution_count": 38,
   "metadata": {},
   "outputs": [
    {
     "data": {
      "text/plain": [
       "array(['GK', 'RCM', 'LF', 'RS', 'RCB', 'ST', 'LCM', 'CB', 'LDM', 'CAM',\n",
       "       'CDM', 'LS', 'LCB', 'RM', 'LAM', 'LW', 'LM', 'LB', 'RDM', 'RF',\n",
       "       'RW', 'CM', 'RB', 'RAM', 'CF', 'RWB', 'LWB', nan], dtype=object)"
      ]
     },
     "execution_count": 38,
     "metadata": {},
     "output_type": "execute_result"
    }
   ],
   "source": [
    "footbal_df['Position'].unique()"
   ]
  },
  {
   "cell_type": "markdown",
   "metadata": {},
   "source": [
    "- Since, position is not indicative of player's skill/performance, we choose to drop it."
   ]
  },
  {
   "cell_type": "code",
   "execution_count": 39,
   "metadata": {},
   "outputs": [],
   "source": [
    "footbal_df = footbal_df.drop('Position', axis=1) # removing the 'Position' column"
   ]
  },
  {
   "cell_type": "markdown",
   "metadata": {},
   "source": [
    "----"
   ]
  },
  {
   "cell_type": "markdown",
   "id": "a61bc798",
   "metadata": {},
   "source": [
    "- Let's remove 'Jersey Number' as it is chosen at random and hence is not a very descriptive feature of a player's identity."
   ]
  },
  {
   "cell_type": "code",
   "execution_count": 40,
   "id": "98f2c4bf",
   "metadata": {},
   "outputs": [],
   "source": [
    "footbal_df = footbal_df.drop('Jersey Number', axis=1) # removing the 'Jersey Number' column"
   ]
  },
  {
   "cell_type": "markdown",
   "metadata": {},
   "source": [
    "----"
   ]
  },
  {
   "cell_type": "markdown",
   "metadata": {},
   "source": [
    "- remove 'Joined' column for 2 reasons, firstly it has 1552 missing values that make nearly 8.5% of the entire data and thus removing rows is not a good step. Also, the significance of this feature is in deriving the number of years of experience that a player has which in turn may describe how good the player is, however, that can be derived from other attributes and hence is not as much a descriptive feature as others. Therefore, it's safe to remove it."
   ]
  },
  {
   "cell_type": "code",
   "execution_count": 41,
   "id": "d457c216",
   "metadata": {},
   "outputs": [
    {
     "data": {
      "text/plain": [
       "3         Jul 1, 2011\n",
       "4        Aug 30, 2015\n",
       "5         Jul 1, 2012\n",
       "6         Aug 1, 2012\n",
       "7        Jul 11, 2014\n",
       "             ...     \n",
       "18202     May 3, 2017\n",
       "18203    Mar 19, 2018\n",
       "18204     Jul 1, 2017\n",
       "18205    Apr 24, 2018\n",
       "18206    Oct 30, 2018\n",
       "Name: Joined, Length: 18124, dtype: object"
      ]
     },
     "execution_count": 41,
     "metadata": {},
     "output_type": "execute_result"
    }
   ],
   "source": [
    "footbal_df['Joined']"
   ]
  },
  {
   "cell_type": "code",
   "execution_count": 42,
   "metadata": {},
   "outputs": [],
   "source": [
    "footbal_df = footbal_df.drop('Joined', axis=1) # removing the 'Joined' column"
   ]
  },
  {
   "cell_type": "markdown",
   "metadata": {},
   "source": [
    "----"
   ]
  },
  {
   "cell_type": "markdown",
   "id": "53422ac5",
   "metadata": {},
   "source": [
    "- In football, 'Loaned From' indicates that the player is currently playing for a team on a temporary basis and that the player's full contractual rights are still owned by the club mentioned after \"Loaned from\". This feature itself doesn't provide direct information about the player's performance. Instead, it describes the contractual status and the temporary nature of the player's association with the team.\n",
    "- So let's remove it."
   ]
  },
  {
   "cell_type": "code",
   "execution_count": 43,
   "metadata": {},
   "outputs": [],
   "source": [
    "footbal_df = footbal_df.drop('Loaned From', axis=1) # removing the 'Loaned From' column"
   ]
  },
  {
   "cell_type": "markdown",
   "metadata": {},
   "source": [
    "----"
   ]
  },
  {
   "cell_type": "markdown",
   "id": "0c5c1a36",
   "metadata": {},
   "source": [
    "- Let's remove the column 'Contract Valid Until' because it does not directly reflect the player's performance information; rather, it indicates the duration of the contractual relationship between the player and the club.\n",
    "- For a similar reason, let's remove the column 'Loaned From' as it indicates a particular player being able to temporarily play for a club other than the one to which they are currently contracted."
   ]
  },
  {
   "cell_type": "code",
   "execution_count": 44,
   "id": "59ae32b4",
   "metadata": {},
   "outputs": [],
   "source": [
    "footbal_df = footbal_df.drop('Contract Valid Until', axis=1) # removing the 'Contract Valid Until' column"
   ]
  },
  {
   "cell_type": "markdown",
   "metadata": {},
   "source": [
    "----"
   ]
  },
  {
   "cell_type": "markdown",
   "metadata": {},
   "source": [
    "- Let's drop the 'height' and 'weight' column, as we are already considering the 'Body Type' attribute."
   ]
  },
  {
   "cell_type": "code",
   "execution_count": 45,
   "metadata": {},
   "outputs": [],
   "source": [
    "footbal_df = footbal_df.drop('Height', axis=1) # removing the 'Height' column\n",
    "footbal_df = footbal_df.drop('Weight', axis=1) # removing the 'Weight' column"
   ]
  },
  {
   "cell_type": "markdown",
   "metadata": {},
   "source": [
    "----"
   ]
  },
  {
   "cell_type": "markdown",
   "metadata": {},
   "source": [
    "- Attribute \"crossing\" likely refers to a player's ability to deliver accurate and effective crosses into the penalty area from wide positions on the field"
   ]
  },
  {
   "cell_type": "code",
   "execution_count": 46,
   "metadata": {},
   "outputs": [
    {
     "data": {
      "text/plain": [
       "array(['17', '93', '81', '86', '77', '66', '13', '62', '88', '55', '84',\n",
       "       '68', '82', '75', '15', '70', '58', '52', '90', '79', '64', '87',\n",
       "       '60', '12', '69', '46', '30', '80', '11', '78', '57', '83', '85',\n",
       "       '20', '73', '53', '72', '36', '44', '45', '40', '27', '76', '63',\n",
       "       '65', '48', '61', '47', '89', '19', '49', '9', '71', '74', '24',\n",
       "       '18', '38', '92', '56', '67', '35', '25', '50', '14', '29', '10',\n",
       "       '42', '54', '59', '91', '51', '43', '33', '34', '16', '39', '28',\n",
       "       '8', '21', '23', '41', '32', '37', '31', '22', '7', '26', '6', '5'],\n",
       "      dtype=object)"
      ]
     },
     "execution_count": 46,
     "metadata": {},
     "output_type": "execute_result"
    }
   ],
   "source": [
    "footbal_df['Crossing'].unique()"
   ]
  },
  {
   "cell_type": "markdown",
   "metadata": {},
   "source": [
    "----"
   ]
  },
  {
   "cell_type": "code",
   "execution_count": 47,
   "metadata": {},
   "outputs": [
    {
     "data": {
      "text/plain": [
       "array([13., 82., 84., 72., 93., 60., 11., 91., 76., 42., 65., 94., 90.,\n",
       "       14., 67., 89., 33., 88., 59., 83., 77., 79., 80., 55., 70., 86.,\n",
       "       10., 92., 38., 15., 51., 19., 73., 87., 56., 64., 81., 75., 52.,\n",
       "       40., 69., 46., 48., 45., 47., 66., 78., 63., 54., 12., 34., 57.,\n",
       "       43., 37., 20., 41., 85., 18., 25.,  9., 71., 44., 27., 21., 74.,\n",
       "       31., 68., 39., 62., 29., 61., 32., 50., 16., 53.,  8., 23., 58.,\n",
       "       30., 49., 17., 36., 28., 35., 26.,  6., 22., 24.,  7.,  5.,  2.,\n",
       "        4.])"
      ]
     },
     "execution_count": 47,
     "metadata": {},
     "output_type": "execute_result"
    }
   ],
   "source": [
    "footbal_df['Finishing'].unique()"
   ]
  },
  {
   "cell_type": "markdown",
   "metadata": {},
   "source": [
    "----"
   ]
  },
  {
   "cell_type": "code",
   "execution_count": 48,
   "metadata": {},
   "outputs": [
    {
     "name": "stdout",
     "output_type": "stream",
     "text": [
      "Attribute: Crossing\n",
      "['17' '93' '81' '86' '77' '66' '13' '62' '88' '55' '84' '68' '82' '75'\n",
      " '15' '70' '58' '52' '90' '79' '64' '87' '60' '12' '69' '46' '30' '80'\n",
      " '11' '78' '57' '83' '85' '20' '73' '53' '72' '36' '44' '45' '40' '27'\n",
      " '76' '63' '65' '48' '61' '47' '89' '19' '49' '9' '71' '74' '24' '18' '38'\n",
      " '92' '56' '67' '35' '25' '50' '14' '29' '10' '42' '54' '59' '91' '51'\n",
      " '43' '33' '34' '16' '39' '28' '8' '21' '23' '41' '32' '37' '31' '22' '7'\n",
      " '26' '6' '5']\n",
      "Attribute: Finishing\n",
      "[13. 82. 84. 72. 93. 60. 11. 91. 76. 42. 65. 94. 90. 14. 67. 89. 33. 88.\n",
      " 59. 83. 77. 79. 80. 55. 70. 86. 10. 92. 38. 15. 51. 19. 73. 87. 56. 64.\n",
      " 81. 75. 52. 40. 69. 46. 48. 45. 47. 66. 78. 63. 54. 12. 34. 57. 43. 37.\n",
      " 20. 41. 85. 18. 25.  9. 71. 44. 27. 21. 74. 31. 68. 39. 62. 29. 61. 32.\n",
      " 50. 16. 53.  8. 23. 58. 30. 49. 17. 36. 28. 35. 26.  6. 22. 24.  7.  5.\n",
      "  2.  4.]\n",
      "Attribute: HeadingAccuracy\n",
      "[21. 55. 61. 77. 91. 15. 85. 54. 92. 68. 84. 11. 89. 25. 83. 76. 62. 56.\n",
      " 52. 48. 79. 87. 75. 10. 80. 81. 13. 73. 86. 70. 35. 74. 58. 72. 51. 14.\n",
      " 82. 38. 50. 49. 60. 63. 19. 16. 46. 59. 94. 69. 65. 12. 78. 90. 31. 41.\n",
      " 43. 64. 42. 53. 17. 44. 45. 34. 67. 23. 57. 88. 71. 47. 40. 66. 36. 20.\n",
      " 39. 93.  8. 18.  7. 37. 32. 24. 33.  9. 30. 22. 28. 27. 29. 26.  5.  6.\n",
      "  4.]\n",
      "Attribute: ShortPassing\n",
      "[50. 92. 89. 93. 82. 78. 29. 83. 79. 86. 87. 80. 36. 55. 81. 59. 85. 91.\n",
      " 88. 77. 84. 75. 37. 73. 66. 30. 74. 56. 76. 90. 65. 70. 45. 60. 32. 68.\n",
      " 71. 33. 15. 39. 44. 72. 35. 24. 63. 25. 34. 31. 40. 19. 28. 67. 18. 38.\n",
      " 47. 64. 69. 23. 21. 26. 17. 41. 20. 62. 11. 57. 22. 54. 48. 27. 61. 58.\n",
      " 14. 42. 52. 53. 49. 16. 43. 51. 46. 13. 12.  7.]\n",
      "Attribute: Volleys\n",
      "[13. 82. 80. 76. 88. 66. 89. 47. 56. 84. 87. 14. 44. 90. 11. 85. 45. 78.\n",
      " 53. 74. 65. 77. 75. 86. 60. 54. 63. 12. 17. 70. 79. 52. 57. 69. 18. 71.\n",
      " 67. 81. 42. 64. 68. 51. 58. 38. 72. 40. 20. 61. 16. 83. 73. 46. 23. 28.\n",
      " 30. 31. 50. 34. 27. 19. 10.  9. 59. 15. 35. 33. 62. 24. 55. 39. 32.  8.\n",
      " 41. 26. 48. 43. 49. 25. 37. 36. 29. 21. 22.  7.  5.  6.  4.]\n",
      "Attribute: Dribbling\n",
      "[18. 86. 95. 90. 87. 63. 12. 85. 81. 53. 89. 79. 92. 80. 88. 17. 30. 58.\n",
      " 69. 94. 84. 91. 68. 10. 62. 26. 77. 66. 16. 83. 71. 59. 23. 70. 57. 75.\n",
      " 64. 27. 82. 54. 51. 78. 11. 93. 76. 60. 67. 47. 42. 15. 19. 56. 55. 14.\n",
      " 20. 65. 72. 28.  9. 73. 48. 52. 25. 43. 74. 46. 13. 21. 44. 49. 24.  8.\n",
      " 50. 36. 40. 22. 61. 34. 45. 33. 35. 38. 39. 31. 41. 37.  7. 32. 29.  6.\n",
      "  4.  5.]\n",
      "Attribute: Curve\n",
      "[21. 85. 83. 86. 74. 13. 77. 49. 82. 88. 78. 84. 18. 66. 14. 60. 59. 89.\n",
      " 87. 91. 80. 65. 90. 11. 61. 12. 20. 72. 58. 28. 70. 15. 46. 73. 81. 68.\n",
      " 56. 63. 34. 19. 30. 50. 16. 79. 53. 76. 62. 52. 32. 44. 36. 75. 71. 45.\n",
      "  9. 64. 23. 69. 29. 17. 94. 25. 47. 48. 55. 33. 24. 35. 42. 67. 10. 54.\n",
      " 38. 57. 39. 43. 22. 40. 41. 26. 37. 51. 92. 31. 27.  8.  6.  7.]\n",
      "Attribute: FKAccuracy\n",
      "[19. 83. 79. 78. 84. 72. 14. 86. 51. 77. 49. 88. 68. 12. 76. 11. 73. 31.\n",
      " 63. 74. 87. 53. 67. 10. 62. 64. 13. 45. 28. 82. 15. 66. 43. 20. 70. 65.\n",
      " 54. 59. 58. 61. 69. 92. 27. 30. 75. 18. 60. 71. 39. 90. 52. 47. 44. 81.\n",
      " 32. 50. 16.  8. 22. 35. 56. 29. 80. 37. 57. 26. 55. 21. 25. 24. 46. 42.\n",
      " 93. 48. 34. 33. 85. 17. 40. 38. 41. 36.  9. 23. 91.  7.  4.  6.  3.]\n",
      "Attribute: LongPassing\n",
      "[51. 91. 83. 88. 64. 77. 26. 65. 93. 70. 87. 81. 75. 82. 76. 42. 52. 59.\n",
      " 73. 78. 85. 80. 50. 34. 35. 54. 56. 90. 37. 49. 74. 79. 58. 71. 69. 89.\n",
      " 68. 72. 44. 61. 36. 62. 66. 67. 86. 63. 60. 31. 40. 20. 39. 46. 47. 55.\n",
      " 32. 84. 41. 25. 43. 30. 28. 22. 17. 24. 16. 53. 48. 33. 27. 45. 21. 57.\n",
      " 23. 38. 12. 19. 29. 13. 11. 18. 15. 10. 14.  9.]\n",
      "Attribute: BallControl\n",
      "[42. 91. 94. 93. 90. 84. 16. 89. 76. 80. 92. 18. 88. 82. 48. 57. 78. 95.\n",
      " 81. 85. 34. 28. 77. 60. 19. 72. 83. 87. 37. 86. 73. 75. 74. 64. 67. 30.\n",
      " 65. 70. 22. 68. 79. 62. 56. 63. 21. 71. 23. 20. 14. 58. 15. 40. 24. 17.\n",
      " 59. 25. 69. 32. 66. 38. 29. 36. 54. 61.  9. 12. 35. 26. 10. 53. 33. 52.\n",
      " 41. 55. 31. 13. 47. 49. 50. 51. 11. 27. 39. 43. 44. 46.  8. 45.  5.]\n",
      "Attribute: Acceleration\n",
      "[57. 78. 94. 80. 86. 76. 43. 77. 64. 68. 70. 82. 87. 88. 38. 50. 75. 54.\n",
      " 63. 96. 59. 73. 89. 93. 53. 83. 65. 51. 49. 71. 61. 69. 66. 84. 95. 74.\n",
      " 97. 72. 85. 79. 81. 67. 60. 52. 58. 62. 46. 91. 45. 90. 34. 92. 55. 47.\n",
      " 56. 48. 40. 35. 41. 39. 44. 36. 30. 42. 32. 33. 37. 31. 29. 22. 28. 17.\n",
      " 27. 24. 25. 26. 21. 15. 23. 20. 19. 18. 16. 12. 13. 14.]\n",
      "Attribute: SprintSpeed\n",
      "[58. 76. 88. 72. 75. 60. 78. 62. 68. 64. 83. 85. 50. 52. 80. 96. 65. 67.\n",
      " 86. 69. 73. 95. 82. 55. 43. 79. 53. 90. 93. 59. 74. 63. 77. 92. 66. 70.\n",
      " 45. 84. 61. 47. 89. 87. 56. 44. 57. 54. 91. 33. 71. 51. 49. 46. 37. 81.\n",
      " 42. 94. 35. 36. 34. 38. 40. 48. 31. 41. 32. 39. 27. 26. 30. 18. 28. 29.\n",
      " 24. 22. 21. 25. 20. 16. 15. 17. 19. 23. 13. 12. 14.]\n",
      "Attribute: Agility\n",
      "[60. 79. 95. 93. 82. 78. 67. 70. 58. 92. 91. 71. 90. 37. 66. 77. 51. 86.\n",
      " 54. 62. 83. 94. 87. 76. 63. 55. 75. 68. 47. 50. 74. 61. 72. 88. 80. 59.\n",
      " 48. 40. 84. 85. 64. 69. 56. 57. 46. 73. 45. 33. 81. 52. 44. 43. 89. 53.\n",
      " 41. 42. 34. 65. 32. 39. 35. 49. 36. 29. 31. 30. 38. 26. 25. 19. 28. 21.\n",
      " 23. 20. 22. 14. 18. 24. 27. 15.]\n",
      "Attribute: Reactions\n",
      "[90. 91. 92. 85. 86. 89. 93. 87. 84. 82. 83. 77. 88. 79. 80. 81. 78. 76.\n",
      " 75. 70. 74. 68. 72. 73. 71. 67. 66. 69. 64. 65. 62. 58. 61. 60. 63. 55.\n",
      " 59. 54. 51. 57. 53. 56. 50. 52. 49. 48. 46. 47. 44. 45. 41. 43. 42. 38.\n",
      " 39. 31. 40. 37. 35. 34. 30. 36. 33. 32. 21.]\n",
      "Attribute: Balance\n",
      "[43. 77. 94. 83. 66. 49. 78. 71. 54. 90. 92. 85. 80. 52. 59. 35. 91. 55.\n",
      " 76. 93. 81. 70. 60. 86. 65. 69. 68. 36. 40. 64. 61. 46. 63. 88. 48. 72.\n",
      " 73. 50. 79. 53. 84. 37. 62. 51. 87. 75. 74. 82. 57. 41. 39. 33. 67. 30.\n",
      " 44. 58. 47. 56. 31. 32. 89. 45. 27. 38. 34. 25. 42. 96. 28. 95. 24. 29.\n",
      " 22. 20. 23. 16. 21. 26. 17. 19. 18.]\n",
      "Attribute: ShotPower\n",
      "[31. 91. 82. 79. 86. 22. 88. 87. 67. 72. 71. 80. 61. 25. 78. 75. 69. 84.\n",
      " 83. 92. 23. 39. 55. 90. 21. 64. 62. 70. 42. 81. 73. 52. 56. 68. 74. 66.\n",
      " 65. 50. 40. 15. 63. 77. 53. 59. 20. 14. 24. 36. 76. 54. 85. 44. 46. 43.\n",
      " 28. 57. 89. 38. 60. 58. 35. 18. 94. 17. 29. 45. 48. 19. 37. 51. 49. 41.\n",
      " 47. 30. 12. 26. 27. 34. 93. 33. 16. 13. 10. 11. 32.  3.  6.  2.  9.  7.\n",
      "  8.]\n",
      "Attribute: Jumping\n",
      "[67. 63. 56. 68. 69. 93. 76. 84. 30. 91. 64. 77. 75. 78. 90. 79. 66. 88.\n",
      " 81. 89. 54. 53. 50. 59. 87. 74. 94. 83. 71. 60. 85. 39. 58. 57. 61. 70.\n",
      " 48. 47. 52. 82. 86. 92. 51. 72. 45. 73. 38. 41. 80. 34. 36. 43. 65. 49.\n",
      " 44. 40. 62. 46. 33. 32. 35. 37. 31. 55. 42. 29. 26. 27. 23. 28. 15. 16.\n",
      " 22.]\n",
      "Attribute: Stamina\n",
      "[43. 90. 83. 89. 84. 41. 78. 75. 66. 96. 80. 35. 86. 92. 76. 65. 87. 70.\n",
      " 79. 91. 74. 39. 72. 71. 88. 73. 77. 69. 55. 85. 32. 67. 45. 93. 61. 94.\n",
      " 60. 36. 30. 34. 37. 68. 53. 64. 56. 82. 63. 58. 31. 95. 81. 20. 29. 42.\n",
      " 40. 44. 62. 23. 28. 25. 54. 50. 33. 27. 18. 51. 22. 57. 24. 59. 47. 38.\n",
      " 52. 48. 49. 26. 15. 46. 19. 17. 16. 21. 14. 13. 12.]\n",
      "Attribute: Strength\n",
      "[64. 75. 66. 58. 83. 78. 84. 73. 88. 52. 76. 65. 62. 79. 77. 80. 89. 71.\n",
      " 68. 44. 59. 61. 43. 85. 82. 69. 94. 42. 67. 70. 48. 92. 74. 63. 91. 57.\n",
      " 54. 72. 81. 49. 87. 86. 90. 60. 55. 46. 93. 51. 56. 53. 47. 38. 37. 50.\n",
      " 45. 39. 40. 34. 41. 35. 32. 33. 30. 36. 95. 31. 29. 27. 26. 28. 24. 25.\n",
      " 17.]\n",
      "Attribute: LongShots\n",
      "[12. 91. 80. 82. 85. 59. 84. 92. 43. 75. 69. 88. 10. 54. 79. 16. 83. 49.\n",
      " 78. 87. 89. 93. 51. 70. 14. 68. 19. 13. 74. 15. 81. 66. 90. 72. 18. 64.\n",
      " 73. 76. 53. 58. 86. 60. 65. 24. 71. 30. 56. 41. 55. 44. 48. 47. 62. 35.\n",
      " 36. 17. 77. 11. 39. 25. 67. 31. 38. 28. 20.  9. 61.  7. 46. 45. 50. 52.\n",
      " 26. 42. 37. 22. 40. 34. 57. 29. 63. 27. 21. 23.  8. 32. 33.  6.  5.  4.\n",
      "  3.]\n",
      "Attribute: Aggression\n",
      "[38. 76. 54. 62. 87. 88. 34. 80. 60. 89. 57. 90. 48. 69. 43. 85. 84. 29.\n",
      " 65. 92. 64. 58. 46. 59. 31. 50. 25. 81. 56. 78. 32. 75. 77. 67. 72. 61.\n",
      " 35. 73. 82. 55. 49. 70. 86. 45. 27. 74. 71. 91. 40. 79. 93. 51. 83. 94.\n",
      " 63. 28. 44. 20. 66. 47. 36. 18. 30. 23. 41. 68. 39. 37. 22. 53. 52. 42.\n",
      " 33. 11. 17. 26. 24. 21. 19. 15. 13. 16. 12. 95. 14.]\n",
      "Attribute: Interceptions\n",
      "[30. 61. 41. 83. 90. 19. 39. 82. 88. 50. 92. 32. 35. 22. 87. 48. 24. 38.\n",
      " 55. 26. 64. 56. 49. 85. 59. 27. 20. 89. 28. 66. 40. 84. 36. 72. 75. 34.\n",
      " 25. 86. 58. 78. 45. 11. 79. 42. 81. 15. 46. 69. 80. 70. 74. 62. 18. 77.\n",
      " 76. 37. 23. 33. 44. 21. 31. 13. 43. 16. 29. 53. 54. 73. 65. 51. 10. 71.\n",
      " 60. 67. 68. 52. 57. 14. 17. 12. 47. 63.  9.  7.  8.  6.  5.  3.  4.]\n",
      "Attribute: Positioning\n",
      "[12. 87. 79. 92. 60. 11. 91. 48. 89. 71. 84. 93. 77. 28. 88. 69. 80. 83.\n",
      " 78. 90. 56. 85. 10. 59. 58. 24. 81. 16. 20. 41. 44. 70. 76. 62. 38. 30.\n",
      " 82. 13. 86. 25. 51. 14. 47. 53. 72. 43. 40. 34. 54. 26. 46. 64. 61.  9.\n",
      " 32.  7. 67. 75. 49. 39. 74. 27. 15. 18. 29. 73. 37. 66. 55. 65. 57. 31.\n",
      " 33. 50. 45. 42. 63. 21. 17. 35. 68.  8.  5. 36.  4. 52. 23. 19.  6. 22.\n",
      "  3.  2.]\n",
      "Attribute: Vision\n",
      "[68. 94. 89. 92. 84. 63. 70. 77. 86. 52. 79. 87. 80. 83. 69. 50. 82. 91.\n",
      " 90. 30. 74. 72. 41. 58. 64. 43. 76. 65. 62. 67. 59. 85. 56. 88. 47. 75.\n",
      " 93. 57. 81. 66. 22. 53. 78. 48. 49. 27. 73. 51. 44. 54. 46. 45. 42. 60.\n",
      " 61. 71. 55. 23. 37. 25. 40. 34. 32. 36. 28. 15. 38. 33. 39. 31. 16. 35.\n",
      " 18. 14. 20. 21. 11. 26. 19. 17. 29. 24. 13. 12. 10.]\n",
      "Attribute: Penalties\n",
      "[40. 79. 86. 82. 85. 75. 11. 88. 73. 50. 54. 90. 25. 60. 47. 83. 70. 66.\n",
      " 81. 61. 76. 67. 68. 59. 23. 22. 33. 78. 69. 71. 17. 62. 72. 43. 64. 77.\n",
      " 89. 58. 41. 56. 44. 55. 80. 84. 26. 45. 18. 46. 63. 49. 65. 57. 38. 32.\n",
      " 74. 91. 31. 16. 21. 20. 15. 24. 37. 53. 52. 39. 92. 13. 14. 48. 34. 36.\n",
      " 51. 19. 27. 30. 42. 29. 10.  9. 87. 35. 12. 28.  7.  5.  8.]\n",
      "Attribute: Composure\n",
      "[68. 88. 91. 84. 85. 82. 70. 86. 93. 89. 87. 69. 90. 83. 65. 81. 78. 67.\n",
      " 79. 80. 77. 75. 73. 72. 66. 48. 64. 71. 74. 63. 76. 20. 52. 61. 57. 92.\n",
      " 55. 39. 62. 40. 58. 53. 60. 59. 45. 54. 51. 42. 56. 49. 33. 46. 44. 32.\n",
      " 50. 43. 31. 38. 41. 37. 30. 35. 25. 28. 47. 23. 36. 34. 24. 22. 27. 26.\n",
      " 29.  3. 18. 12. 21. 15. 13. 19. 14.]\n",
      "Attribute: Marking\n",
      "[15. 68. 34. 60. 62. 87. 27. 72. 90. 59. 23. 56. 25. 52. 17. 30. 93. 88.\n",
      " 51. 55. 71. 54. 29. 35. 13. 45. 91. 66. 28. 75. 36. 49. 42. 47. 78. 81.\n",
      " 44. 67. 89. 24. 85. 92. 40. 31. 77. 80. 86. 83. 69. 20. 38. 84. 82. 64.\n",
      " 58. 63. 70. 46. 48. 39. 10. 73. 43. 32. 14. 50. 94. 53. 26. 19. 16. 65.\n",
      " 41. 79.  9. 12. 21. 76. 37. 18. 57. 22. 11. 74. 61. 33.  7.  8.  4.  3.\n",
      "  5.  6.]\n",
      "Attribute: StandingTackle\n",
      "[21. 58. 27. 76. 45. 92. 12. 42. 79. 89. 53. 91. 20. 36. 47. 13. 86. 10.\n",
      " 93. 34. 90. 41. 24. 64. 57. 54. 25. 85. 55. 22. 11. 88. 70. 14. 30. 33.\n",
      " 84. 40. 87. 73. 74. 32. 44. 15. 83. 38. 63. 16. 77. 37. 19. 81. 31. 82.\n",
      " 69. 68. 52. 28. 39. 66. 78. 29. 59. 17. 26. 23. 35. 62. 50. 75. 18. 48.\n",
      " 60. 43. 80. 46. 49. 72. 71. 61. 51. 65. 67. 56.  9.  7.  8.  2.  5.  6.]\n",
      "Attribute: SlidingTackle\n",
      "[13. 51. 22. 73. 38. 91. 18. 19. 69. 89. 29. 85. 20. 48. 10. 80. 39. 11.\n",
      " 12. 90. 32. 87. 44. 47. 36. 88. 86. 52. 68. 14. 30. 40. 62. 70. 84. 35.\n",
      "  8. 54. 42. 34. 65. 45. 56. 82. 72. 25. 16. 79. 76. 60. 24. 53. 83. 63.\n",
      " 31. 33. 74. 75. 64. 26. 61. 71. 15. 78. 41. 59. 55. 21. 58. 17. 81. 77.\n",
      " 37. 66. 46. 28. 57. 67. 43. 49. 23. 50. 27.  9.  7.  6.  4.  3.]\n",
      "Attribute: GKDiving\n",
      "[90. 15. 11. 13. 27. 86. 10.  6.  5.  8. 14. 87. 12.  3.  9. 88.  7. 85.\n",
      "  2. 16. 83.  4. 81. 84. 82. 78. 79. 80. 18.  1. 77. 75. 74. 76. 73. 32.\n",
      " 17. 72. 71. 69. 68. 70. 66. 22. 61. 21. 64. 65. 67. 63. 19. 62. 60. 57.\n",
      " 23. 55. 54. 58. 59. 56. 53. 52. 26. 37. 48. 51. 50. 46. 49. 47. 45.]\n",
      "Attribute: GKHandling\n",
      "[85. 13. 12.  9. 25.  8. 92.  6. 11. 15.  4. 10.  5. 86.  3. 14.  7. 84.\n",
      " 87. 81. 80.  2. 16. 82. 79. 83. 77. 78. 76. 74. 75.  1. 72. 73. 70. 67.\n",
      " 69. 71. 33. 68. 66. 65. 64. 63. 58. 22. 61. 59. 18. 17. 62. 60. 55. 19.\n",
      " 57. 56. 52. 53. 54. 47. 43. 32. 50. 51. 48. 49. 46. 45. 44.]\n",
      "Attribute: GKKicking\n",
      "[87.  5.  6.  7. 31.  9. 78. 12. 13. 15. 10.  4. 11. 14. 88. 91.  2. 16.\n",
      " 68. 69. 74. 75.  8.  3. 85. 71. 77. 82. 20. 76. 83. 79. 70. 52. 80. 72.\n",
      " 73. 58.  1. 81. 64. 66. 65. 63. 62. 60. 67. 61. 38. 17. 42. 54. 18. 84.\n",
      " 59. 45. 46. 28. 57. 53. 56. 55. 19. 49. 41. 22. 40. 51. 33. 48. 23. 21.\n",
      " 47. 35. 50. 44. 30. 36. 43.]\n",
      "Attribute: GKPositioning\n",
      "[88. 10.  8. 14. 33.  7.  5.  6. 13. 85.  9. 87. 11.  4. 12. 15. 83. 89.\n",
      " 90. 82.  2. 16. 84. 81. 79. 80. 19.  3. 78. 86. 77.  1. 75. 76. 74. 72.\n",
      " 32. 17. 73. 65. 70. 18. 71. 69. 20. 68. 67. 62. 24. 66. 64. 63. 30. 55.\n",
      " 59. 61. 60. 23. 57. 58. 50. 54. 51. 49. 56. 53. 52. 27. 38. 47. 48. 46.\n",
      " 44. 45. 41. 42. 43. 39. 40.]\n",
      "Attribute: GKReflexes\n",
      "[94. 13.  8.  9. 37. 11. 89. 10. 15. 12. 14. 90. 87.  3.  6. 92. 83.  5.\n",
      "  4.  7. 88. 82. 84. 20. 86. 16. 85.  2. 18. 78. 81. 80. 79.  1. 76. 77.\n",
      " 75. 72. 34. 17. 74. 67. 73. 19. 66. 70. 71. 23. 69. 68. 33. 64. 21. 65.\n",
      " 61. 59. 63. 62. 60. 58. 56. 57. 53. 55. 25. 30. 54. 52. 51. 50. 49. 48.\n",
      " 44. 46. 45. 47.]\n"
     ]
    }
   ],
   "source": [
    "columns_to_analyze = ['Crossing', 'Finishing', 'HeadingAccuracy', 'ShortPassing', 'Volleys', 'Dribbling', 'Curve', 'FKAccuracy', 'LongPassing', 'BallControl', 'Acceleration', 'SprintSpeed', 'Agility', 'Reactions', 'Balance', 'ShotPower', 'Jumping', 'Stamina', 'Strength', 'LongShots', 'Aggression', 'Interceptions', 'Positioning', 'Vision', 'Penalties', 'Composure', 'Marking', 'StandingTackle', 'SlidingTackle', 'GKDiving', 'GKHandling', 'GKKicking', 'GKPositioning', 'GKReflexes']\n",
    "for col in columns_to_analyze:\n",
    "    print(f\"Attribute: {col}\")\n",
    "    print(footbal_df[col].unique())"
   ]
  },
  {
   "cell_type": "markdown",
   "metadata": {},
   "source": [
    "----"
   ]
  },
  {
   "cell_type": "markdown",
   "metadata": {},
   "source": [
    "- Let's remove the column 'Release Clause' \n",
    "- A release clause is a set fee that a buying club can pay a selling club in order to contractually oblige them to offload a player or a coach.\n",
    "- From our opinion, a release cause might reflect something about a player, i.e., players with higher market value or those in high demand might more likely to have release clauses, however, that can be derived even from the attributes like and 'International Reputation'."
   ]
  },
  {
   "cell_type": "code",
   "execution_count": 49,
   "metadata": {},
   "outputs": [],
   "source": [
    "footbal_df = footbal_df.drop('Release Clause', axis=1) # removing the 'Release Clause' column"
   ]
  },
  {
   "cell_type": "markdown",
   "id": "f763e45c",
   "metadata": {},
   "source": [
    "----"
   ]
  },
  {
   "cell_type": "markdown",
   "metadata": {},
   "source": [
    "- Finally, the set of continuous attributes are:\n",
    "- Age, Overall, Potential, Crossing, Finishing, HeadingAccuracy, ShortPassing, Volleys, Dribbling, Curve, FKAccuracy, LongPassing, BallControl, Acceleration, SprintSpeed, Agility, Reactions, Balance, ShotPower, Jumping, Stamina, Strength, LongShots, Aggression, Interceptions, Positioning, Vision, Penalties, Composure, Marking, StandingTackle, SlidingTackle, GKDiving, GKHandling, GKKicking GKPositioning, GKReflexes\n",
    "\n",
    "- Finally, the set of categorical attributes are:    \n",
    "Preferred Foot, International Reputation, Weak Foot, Skill Moves, Work Rate, Body  Type"
   ]
  },
  {
   "cell_type": "markdown",
   "metadata": {},
   "source": [
    "----"
   ]
  },
  {
   "cell_type": "markdown",
   "metadata": {},
   "source": [
    "- Let's standardize all the continuous values"
   ]
  },
  {
   "cell_type": "code",
   "execution_count": 50,
   "metadata": {},
   "outputs": [
    {
     "data": {
      "text/html": [
       "<div>\n",
       "<style scoped>\n",
       "    .dataframe tbody tr th:only-of-type {\n",
       "        vertical-align: middle;\n",
       "    }\n",
       "\n",
       "    .dataframe tbody tr th {\n",
       "        vertical-align: top;\n",
       "    }\n",
       "\n",
       "    .dataframe thead th {\n",
       "        text-align: right;\n",
       "    }\n",
       "</style>\n",
       "<table border=\"1\" class=\"dataframe\">\n",
       "  <thead>\n",
       "    <tr style=\"text-align: right;\">\n",
       "      <th></th>\n",
       "      <th>Age</th>\n",
       "      <th>Overall</th>\n",
       "      <th>Potential</th>\n",
       "      <th>Preferred Foot</th>\n",
       "      <th>International Reputation</th>\n",
       "      <th>Weak Foot</th>\n",
       "      <th>Skill Moves</th>\n",
       "      <th>Work Rate</th>\n",
       "      <th>Body Type</th>\n",
       "      <th>Crossing</th>\n",
       "      <th>...</th>\n",
       "      <th>Penalties</th>\n",
       "      <th>Composure</th>\n",
       "      <th>Marking</th>\n",
       "      <th>StandingTackle</th>\n",
       "      <th>SlidingTackle</th>\n",
       "      <th>GKDiving</th>\n",
       "      <th>GKHandling</th>\n",
       "      <th>GKKicking</th>\n",
       "      <th>GKPositioning</th>\n",
       "      <th>GKReflexes</th>\n",
       "    </tr>\n",
       "  </thead>\n",
       "  <tbody>\n",
       "    <tr>\n",
       "      <th>3</th>\n",
       "      <td>0.402603</td>\n",
       "      <td>3.589228</td>\n",
       "      <td>3.542126</td>\n",
       "      <td>Right</td>\n",
       "      <td>4</td>\n",
       "      <td>3.0</td>\n",
       "      <td>1.0</td>\n",
       "      <td>Medium/ Medium</td>\n",
       "      <td>Lean</td>\n",
       "      <td>-1.783107</td>\n",
       "      <td>...</td>\n",
       "      <td>-0.544793</td>\n",
       "      <td>0.818812</td>\n",
       "      <td>-1.621473</td>\n",
       "      <td>-1.232152</td>\n",
       "      <td>-1.533833</td>\n",
       "      <td>4.147707</td>\n",
       "      <td>4.059017</td>\n",
       "      <td>4.288869</td>\n",
       "      <td>4.204590</td>\n",
       "      <td>4.304628</td>\n",
       "    </tr>\n",
       "    <tr>\n",
       "      <th>4</th>\n",
       "      <td>0.402603</td>\n",
       "      <td>3.589228</td>\n",
       "      <td>3.378725</td>\n",
       "      <td>Right</td>\n",
       "      <td>4</td>\n",
       "      <td>5.0</td>\n",
       "      <td>4.0</td>\n",
       "      <td>High/ High</td>\n",
       "      <td>Normal</td>\n",
       "      <td>2.356401</td>\n",
       "      <td>...</td>\n",
       "      <td>1.939013</td>\n",
       "      <td>2.569985</td>\n",
       "      <td>1.040550</td>\n",
       "      <td>0.475151</td>\n",
       "      <td>0.250457</td>\n",
       "      <td>-0.091355</td>\n",
       "      <td>-0.200615</td>\n",
       "      <td>-0.680542</td>\n",
       "      <td>-0.375093</td>\n",
       "      <td>-0.206546</td>\n",
       "    </tr>\n",
       "  </tbody>\n",
       "</table>\n",
       "<p>2 rows × 43 columns</p>\n",
       "</div>"
      ],
      "text/plain": [
       "        Age   Overall  Potential Preferred Foot International Reputation  \\\n",
       "3  0.402603  3.589228   3.542126          Right                        4   \n",
       "4  0.402603  3.589228   3.378725          Right                        4   \n",
       "\n",
       "   Weak Foot  Skill Moves       Work Rate Body Type  Crossing  ...  Penalties  \\\n",
       "3        3.0          1.0  Medium/ Medium      Lean -1.783107  ...  -0.544793   \n",
       "4        5.0          4.0      High/ High    Normal  2.356401  ...   1.939013   \n",
       "\n",
       "   Composure   Marking  StandingTackle  SlidingTackle  GKDiving  GKHandling  \\\n",
       "3   0.818812 -1.621473       -1.232152      -1.533833  4.147707    4.059017   \n",
       "4   2.569985  1.040550        0.475151       0.250457 -0.091355   -0.200615   \n",
       "\n",
       "   GKKicking  GKPositioning  GKReflexes  \n",
       "3   4.288869       4.204590    4.304628  \n",
       "4  -0.680542      -0.375093   -0.206546  \n",
       "\n",
       "[2 rows x 43 columns]"
      ]
     },
     "execution_count": 50,
     "metadata": {},
     "output_type": "execute_result"
    }
   ],
   "source": [
    "from sklearn.preprocessing import StandardScaler\n",
    "continuous_attrb = ['Age', 'Overall', 'Potential', 'Crossing', 'Finishing', 'HeadingAccuracy', 'ShortPassing', 'Volleys', 'Dribbling', 'Curve', 'FKAccuracy', 'LongPassing', 'BallControl', 'Acceleration', 'SprintSpeed', 'Agility', 'Reactions', 'Balance', 'ShotPower', 'Jumping', 'Stamina', 'Strength', 'LongShots', 'Aggression', 'Interceptions', 'Positioning', 'Vision', 'Penalties', 'Composure', 'Marking', 'StandingTackle', 'SlidingTackle', 'GKDiving', 'GKHandling', 'GKKicking', 'GKPositioning', 'GKReflexes']\n",
    "# continuous_scaled = StandardScaler().fit_transform(footbal_df[continuous_attrb]) # use StandardScaler\n",
    "footbal_df[continuous_attrb] = StandardScaler().fit_transform(footbal_df[continuous_attrb])\n",
    "footbal_df.head(2)"
   ]
  },
  {
   "cell_type": "code",
   "execution_count": 51,
   "metadata": {},
   "outputs": [],
   "source": [
    "# Data preparation\n",
    "categorical_attr = ['International Reputation', 'Weak Foot', 'Skill Moves', 'Work Rate', 'Body Type']\n",
    "footbal_data = footbal_df.copy()\n",
    "footbal_data_encoded = pd.get_dummies(footbal_data, columns=categorical_attr)\n",
    "footbal_data_encoded.replace({True: 1, False: 0}, inplace=True) # to encode the 'True' to 1 and 'False' to 0\n",
    "footbal_data_encoded.replace({'Right': 1, 'Left': 0}, inplace=True) # for encoding target variable 'Preferred Foot'"
   ]
  },
  {
   "cell_type": "code",
   "execution_count": 52,
   "id": "af67aab3",
   "metadata": {},
   "outputs": [
    {
     "data": {
      "text/html": [
       "<div>\n",
       "<style scoped>\n",
       "    .dataframe tbody tr th:only-of-type {\n",
       "        vertical-align: middle;\n",
       "    }\n",
       "\n",
       "    .dataframe tbody tr th {\n",
       "        vertical-align: top;\n",
       "    }\n",
       "\n",
       "    .dataframe thead th {\n",
       "        text-align: right;\n",
       "    }\n",
       "</style>\n",
       "<table border=\"1\" class=\"dataframe\">\n",
       "  <thead>\n",
       "    <tr style=\"text-align: right;\">\n",
       "      <th></th>\n",
       "      <th>Age</th>\n",
       "      <th>Overall</th>\n",
       "      <th>Potential</th>\n",
       "      <th>Preferred Foot</th>\n",
       "      <th>Crossing</th>\n",
       "      <th>Finishing</th>\n",
       "      <th>HeadingAccuracy</th>\n",
       "      <th>ShortPassing</th>\n",
       "      <th>Volleys</th>\n",
       "      <th>Dribbling</th>\n",
       "      <th>...</th>\n",
       "      <th>Work Rate_High/ Medium</th>\n",
       "      <th>Work Rate_Low/ High</th>\n",
       "      <th>Work Rate_Low/ Low</th>\n",
       "      <th>Work Rate_Low/ Medium</th>\n",
       "      <th>Work Rate_Medium/ High</th>\n",
       "      <th>Work Rate_Medium/ Low</th>\n",
       "      <th>Work Rate_Medium/ Medium</th>\n",
       "      <th>Body Type_Lean</th>\n",
       "      <th>Body Type_Normal</th>\n",
       "      <th>Body Type_Stocky</th>\n",
       "    </tr>\n",
       "  </thead>\n",
       "  <tbody>\n",
       "    <tr>\n",
       "      <th>3</th>\n",
       "      <td>0.402603</td>\n",
       "      <td>3.589228</td>\n",
       "      <td>3.542126</td>\n",
       "      <td>1</td>\n",
       "      <td>-1.783107</td>\n",
       "      <td>-1.668326</td>\n",
       "      <td>-1.801339</td>\n",
       "      <td>-0.591298</td>\n",
       "      <td>-1.691346</td>\n",
       "      <td>-1.977058</td>\n",
       "      <td>...</td>\n",
       "      <td>0</td>\n",
       "      <td>0</td>\n",
       "      <td>0</td>\n",
       "      <td>0</td>\n",
       "      <td>0</td>\n",
       "      <td>0</td>\n",
       "      <td>1</td>\n",
       "      <td>1</td>\n",
       "      <td>0</td>\n",
       "      <td>0</td>\n",
       "    </tr>\n",
       "    <tr>\n",
       "      <th>4</th>\n",
       "      <td>0.402603</td>\n",
       "      <td>3.589228</td>\n",
       "      <td>3.378725</td>\n",
       "      <td>1</td>\n",
       "      <td>2.356401</td>\n",
       "      <td>1.868010</td>\n",
       "      <td>0.155222</td>\n",
       "      <td>2.267248</td>\n",
       "      <td>2.210259</td>\n",
       "      <td>1.620377</td>\n",
       "      <td>...</td>\n",
       "      <td>0</td>\n",
       "      <td>0</td>\n",
       "      <td>0</td>\n",
       "      <td>0</td>\n",
       "      <td>0</td>\n",
       "      <td>0</td>\n",
       "      <td>0</td>\n",
       "      <td>0</td>\n",
       "      <td>1</td>\n",
       "      <td>0</td>\n",
       "    </tr>\n",
       "    <tr>\n",
       "      <th>5</th>\n",
       "      <td>0.402603</td>\n",
       "      <td>3.589228</td>\n",
       "      <td>3.215324</td>\n",
       "      <td>1</td>\n",
       "      <td>1.702794</td>\n",
       "      <td>1.970512</td>\n",
       "      <td>0.500498</td>\n",
       "      <td>2.063066</td>\n",
       "      <td>2.097169</td>\n",
       "      <td>2.096508</td>\n",
       "      <td>...</td>\n",
       "      <td>1</td>\n",
       "      <td>0</td>\n",
       "      <td>0</td>\n",
       "      <td>0</td>\n",
       "      <td>0</td>\n",
       "      <td>0</td>\n",
       "      <td>0</td>\n",
       "      <td>0</td>\n",
       "      <td>1</td>\n",
       "      <td>0</td>\n",
       "    </tr>\n",
       "    <tr>\n",
       "      <th>6</th>\n",
       "      <td>1.473297</td>\n",
       "      <td>3.589228</td>\n",
       "      <td>3.215324</td>\n",
       "      <td>1</td>\n",
       "      <td>1.975130</td>\n",
       "      <td>1.355497</td>\n",
       "      <td>0.155222</td>\n",
       "      <td>2.335308</td>\n",
       "      <td>1.870989</td>\n",
       "      <td>1.831991</td>\n",
       "      <td>...</td>\n",
       "      <td>0</td>\n",
       "      <td>0</td>\n",
       "      <td>0</td>\n",
       "      <td>0</td>\n",
       "      <td>0</td>\n",
       "      <td>0</td>\n",
       "      <td>0</td>\n",
       "      <td>1</td>\n",
       "      <td>0</td>\n",
       "      <td>0</td>\n",
       "    </tr>\n",
       "    <tr>\n",
       "      <th>7</th>\n",
       "      <td>1.259158</td>\n",
       "      <td>3.589228</td>\n",
       "      <td>3.215324</td>\n",
       "      <td>1</td>\n",
       "      <td>1.484925</td>\n",
       "      <td>2.431773</td>\n",
       "      <td>1.421233</td>\n",
       "      <td>1.586642</td>\n",
       "      <td>2.549529</td>\n",
       "      <td>1.673280</td>\n",
       "      <td>...</td>\n",
       "      <td>1</td>\n",
       "      <td>0</td>\n",
       "      <td>0</td>\n",
       "      <td>0</td>\n",
       "      <td>0</td>\n",
       "      <td>0</td>\n",
       "      <td>0</td>\n",
       "      <td>0</td>\n",
       "      <td>1</td>\n",
       "      <td>0</td>\n",
       "    </tr>\n",
       "    <tr>\n",
       "      <th>...</th>\n",
       "      <td>...</td>\n",
       "      <td>...</td>\n",
       "      <td>...</td>\n",
       "      <td>...</td>\n",
       "      <td>...</td>\n",
       "      <td>...</td>\n",
       "      <td>...</td>\n",
       "      <td>...</td>\n",
       "      <td>...</td>\n",
       "      <td>...</td>\n",
       "      <td>...</td>\n",
       "      <td>...</td>\n",
       "      <td>...</td>\n",
       "      <td>...</td>\n",
       "      <td>...</td>\n",
       "      <td>...</td>\n",
       "      <td>...</td>\n",
       "      <td>...</td>\n",
       "      <td>...</td>\n",
       "      <td>...</td>\n",
       "      <td>...</td>\n",
       "    </tr>\n",
       "    <tr>\n",
       "      <th>18202</th>\n",
       "      <td>-1.310507</td>\n",
       "      <td>-2.791850</td>\n",
       "      <td>-1.033091</td>\n",
       "      <td>1</td>\n",
       "      <td>-0.857164</td>\n",
       "      <td>-0.387045</td>\n",
       "      <td>-0.707967</td>\n",
       "      <td>-0.659359</td>\n",
       "      <td>-1.012806</td>\n",
       "      <td>-0.707375</td>\n",
       "      <td>...</td>\n",
       "      <td>0</td>\n",
       "      <td>0</td>\n",
       "      <td>0</td>\n",
       "      <td>0</td>\n",
       "      <td>0</td>\n",
       "      <td>0</td>\n",
       "      <td>1</td>\n",
       "      <td>1</td>\n",
       "      <td>0</td>\n",
       "      <td>0</td>\n",
       "    </tr>\n",
       "    <tr>\n",
       "      <th>18203</th>\n",
       "      <td>-1.310507</td>\n",
       "      <td>-2.791850</td>\n",
       "      <td>-1.359893</td>\n",
       "      <td>1</td>\n",
       "      <td>-1.456303</td>\n",
       "      <td>0.330472</td>\n",
       "      <td>-0.017416</td>\n",
       "      <td>-1.067723</td>\n",
       "      <td>-0.390811</td>\n",
       "      <td>-0.866085</td>\n",
       "      <td>...</td>\n",
       "      <td>0</td>\n",
       "      <td>0</td>\n",
       "      <td>0</td>\n",
       "      <td>0</td>\n",
       "      <td>0</td>\n",
       "      <td>0</td>\n",
       "      <td>1</td>\n",
       "      <td>0</td>\n",
       "      <td>1</td>\n",
       "      <td>0</td>\n",
       "    </tr>\n",
       "    <tr>\n",
       "      <th>18204</th>\n",
       "      <td>-1.952923</td>\n",
       "      <td>-2.791850</td>\n",
       "      <td>-0.706290</td>\n",
       "      <td>1</td>\n",
       "      <td>-1.347369</td>\n",
       "      <td>-0.284543</td>\n",
       "      <td>-0.362691</td>\n",
       "      <td>-1.408026</td>\n",
       "      <td>-0.277721</td>\n",
       "      <td>-0.548665</td>\n",
       "      <td>...</td>\n",
       "      <td>0</td>\n",
       "      <td>0</td>\n",
       "      <td>0</td>\n",
       "      <td>0</td>\n",
       "      <td>0</td>\n",
       "      <td>0</td>\n",
       "      <td>1</td>\n",
       "      <td>0</td>\n",
       "      <td>1</td>\n",
       "      <td>0</td>\n",
       "    </tr>\n",
       "    <tr>\n",
       "      <th>18205</th>\n",
       "      <td>-1.738784</td>\n",
       "      <td>-2.791850</td>\n",
       "      <td>-0.869691</td>\n",
       "      <td>1</td>\n",
       "      <td>-0.312492</td>\n",
       "      <td>0.227970</td>\n",
       "      <td>-0.765513</td>\n",
       "      <td>-1.135783</td>\n",
       "      <td>-0.164631</td>\n",
       "      <td>-0.231244</td>\n",
       "      <td>...</td>\n",
       "      <td>0</td>\n",
       "      <td>0</td>\n",
       "      <td>0</td>\n",
       "      <td>0</td>\n",
       "      <td>0</td>\n",
       "      <td>0</td>\n",
       "      <td>1</td>\n",
       "      <td>1</td>\n",
       "      <td>0</td>\n",
       "      <td>0</td>\n",
       "    </tr>\n",
       "    <tr>\n",
       "      <th>18206</th>\n",
       "      <td>-1.952923</td>\n",
       "      <td>-2.936874</td>\n",
       "      <td>-0.869691</td>\n",
       "      <td>1</td>\n",
       "      <td>-0.475894</td>\n",
       "      <td>-0.592050</td>\n",
       "      <td>-0.362691</td>\n",
       "      <td>-0.727419</td>\n",
       "      <td>-0.730081</td>\n",
       "      <td>-0.654472</td>\n",
       "      <td>...</td>\n",
       "      <td>0</td>\n",
       "      <td>0</td>\n",
       "      <td>0</td>\n",
       "      <td>0</td>\n",
       "      <td>0</td>\n",
       "      <td>0</td>\n",
       "      <td>1</td>\n",
       "      <td>1</td>\n",
       "      <td>0</td>\n",
       "      <td>0</td>\n",
       "    </tr>\n",
       "  </tbody>\n",
       "</table>\n",
       "<p>18124 rows × 65 columns</p>\n",
       "</div>"
      ],
      "text/plain": [
       "            Age   Overall  Potential  Preferred Foot  Crossing  Finishing  \\\n",
       "3      0.402603  3.589228   3.542126               1 -1.783107  -1.668326   \n",
       "4      0.402603  3.589228   3.378725               1  2.356401   1.868010   \n",
       "5      0.402603  3.589228   3.215324               1  1.702794   1.970512   \n",
       "6      1.473297  3.589228   3.215324               1  1.975130   1.355497   \n",
       "7      1.259158  3.589228   3.215324               1  1.484925   2.431773   \n",
       "...         ...       ...        ...             ...       ...        ...   \n",
       "18202 -1.310507 -2.791850  -1.033091               1 -0.857164  -0.387045   \n",
       "18203 -1.310507 -2.791850  -1.359893               1 -1.456303   0.330472   \n",
       "18204 -1.952923 -2.791850  -0.706290               1 -1.347369  -0.284543   \n",
       "18205 -1.738784 -2.791850  -0.869691               1 -0.312492   0.227970   \n",
       "18206 -1.952923 -2.936874  -0.869691               1 -0.475894  -0.592050   \n",
       "\n",
       "       HeadingAccuracy  ShortPassing   Volleys  Dribbling  ...  \\\n",
       "3            -1.801339     -0.591298 -1.691346  -1.977058  ...   \n",
       "4             0.155222      2.267248  2.210259   1.620377  ...   \n",
       "5             0.500498      2.063066  2.097169   2.096508  ...   \n",
       "6             0.155222      2.335308  1.870989   1.831991  ...   \n",
       "7             1.421233      1.586642  2.549529   1.673280  ...   \n",
       "...                ...           ...       ...        ...  ...   \n",
       "18202        -0.707967     -0.659359 -1.012806  -0.707375  ...   \n",
       "18203        -0.017416     -1.067723 -0.390811  -0.866085  ...   \n",
       "18204        -0.362691     -1.408026 -0.277721  -0.548665  ...   \n",
       "18205        -0.765513     -1.135783 -0.164631  -0.231244  ...   \n",
       "18206        -0.362691     -0.727419 -0.730081  -0.654472  ...   \n",
       "\n",
       "       Work Rate_High/ Medium  Work Rate_Low/ High  Work Rate_Low/ Low  \\\n",
       "3                           0                    0                   0   \n",
       "4                           0                    0                   0   \n",
       "5                           1                    0                   0   \n",
       "6                           0                    0                   0   \n",
       "7                           1                    0                   0   \n",
       "...                       ...                  ...                 ...   \n",
       "18202                       0                    0                   0   \n",
       "18203                       0                    0                   0   \n",
       "18204                       0                    0                   0   \n",
       "18205                       0                    0                   0   \n",
       "18206                       0                    0                   0   \n",
       "\n",
       "       Work Rate_Low/ Medium  Work Rate_Medium/ High  Work Rate_Medium/ Low  \\\n",
       "3                          0                       0                      0   \n",
       "4                          0                       0                      0   \n",
       "5                          0                       0                      0   \n",
       "6                          0                       0                      0   \n",
       "7                          0                       0                      0   \n",
       "...                      ...                     ...                    ...   \n",
       "18202                      0                       0                      0   \n",
       "18203                      0                       0                      0   \n",
       "18204                      0                       0                      0   \n",
       "18205                      0                       0                      0   \n",
       "18206                      0                       0                      0   \n",
       "\n",
       "       Work Rate_Medium/ Medium  Body Type_Lean  Body Type_Normal  \\\n",
       "3                             1               1                 0   \n",
       "4                             0               0                 1   \n",
       "5                             0               0                 1   \n",
       "6                             0               1                 0   \n",
       "7                             0               0                 1   \n",
       "...                         ...             ...               ...   \n",
       "18202                         1               1                 0   \n",
       "18203                         1               0                 1   \n",
       "18204                         1               0                 1   \n",
       "18205                         1               1                 0   \n",
       "18206                         1               1                 0   \n",
       "\n",
       "       Body Type_Stocky  \n",
       "3                     0  \n",
       "4                     0  \n",
       "5                     0  \n",
       "6                     0  \n",
       "7                     0  \n",
       "...                 ...  \n",
       "18202                 0  \n",
       "18203                 0  \n",
       "18204                 0  \n",
       "18205                 0  \n",
       "18206                 0  \n",
       "\n",
       "[18124 rows x 65 columns]"
      ]
     },
     "execution_count": 52,
     "metadata": {},
     "output_type": "execute_result"
    }
   ],
   "source": [
    "footbal_data_encoded"
   ]
  },
  {
   "cell_type": "markdown",
   "metadata": {},
   "source": [
    "- Data Preprocessing is completed"
   ]
  },
  {
   "cell_type": "code",
   "execution_count": 53,
   "id": "6b104a6a",
   "metadata": {},
   "outputs": [
    {
     "name": "stdout",
     "output_type": "stream",
     "text": [
      "self.k = 2, Silhouette Score=0.507907916580072\n"
     ]
    },
    {
     "name": "stdout",
     "output_type": "stream",
     "text": [
      "self.k = 3, Silhouette Score=0.2276861520742554\n",
      "self.k = 5, Silhouette Score=0.19476565266536178\n",
      "self.k = 7, Silhouette Score=0.17134772331889284\n",
      "self.k = 9, Silhouette Score=0.15731801331888637\n"
     ]
    },
    {
     "data": {
      "image/png": "[encoded data removed]",
      "text/plain": [
       "<Figure size 640x480 with 1 Axes>"
      ]
     },
     "metadata": {},
     "output_type": "display_data"
    }
   ],
   "source": [
    "import kmeans\n",
    "kmeans.main(footbal_data_encoded.to_numpy())"
   ]
  },
  {
   "cell_type": "markdown",
   "id": "eeb25991",
   "metadata": {},
   "source": [
    "- From the graph we can choose 5 as the optimal number of clusters."
   ]
  },
  {
   "cell_type": "markdown",
   "metadata": {},
   "source": [
    "----"
   ]
  },
  {
   "cell_type": "markdown",
   "metadata": {},
   "source": []
  }
 ],
 "metadata": {
  "kernelspec": {
   "display_name": "Python 3 (ipykernel)",
   "language": "python",
   "name": "python3"
  },
  "language_info": {
   "codemirror_mode": {
    "name": "ipython",
    "version": 3
   },
   "file_extension": ".py",
   "mimetype": "text/x-python",
   "name": "python",
   "nbconvert_exporter": "python",
   "pygments_lexer": "ipython3",
   "version": "3.11.4"
  }
 },
 "nbformat": 4,
 "nbformat_minor": 5
}
